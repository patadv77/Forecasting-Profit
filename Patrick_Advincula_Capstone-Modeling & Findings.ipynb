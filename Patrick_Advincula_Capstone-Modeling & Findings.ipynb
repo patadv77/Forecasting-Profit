{
 "cells": [
  {
   "attachments": {},
   "cell_type": "markdown",
   "metadata": {},
   "source": [
    "# Time series Modeling"
   ]
  },
  {
   "cell_type": "code",
   "execution_count": 1,
   "metadata": {},
   "outputs": [],
   "source": [
    "# IMPORTING PACKAGES \n",
    "import pandas as pd\n",
    "import numpy as np\n",
    "import seaborn as sns\n",
    "import matplotlib.pylab as plt"
   ]
  },
  {
   "cell_type": "code",
   "execution_count": 2,
   "metadata": {},
   "outputs": [
    {
     "data": {
      "text/html": [
       "<div>\n",
       "<style scoped>\n",
       "    .dataframe tbody tr th:only-of-type {\n",
       "        vertical-align: middle;\n",
       "    }\n",
       "\n",
       "    .dataframe tbody tr th {\n",
       "        vertical-align: top;\n",
       "    }\n",
       "\n",
       "    .dataframe thead th {\n",
       "        text-align: right;\n",
       "    }\n",
       "</style>\n",
       "<table border=\"1\" class=\"dataframe\">\n",
       "  <thead>\n",
       "    <tr style=\"text-align: right;\">\n",
       "      <th></th>\n",
       "      <th>Promotion::Start Date Promo</th>\n",
       "      <th>Account Factors::Profit Center</th>\n",
       "      <th>Promo ID</th>\n",
       "      <th>Pricing::Segment</th>\n",
       "      <th>Pricing::Engine</th>\n",
       "      <th>Promotion::SKU</th>\n",
       "      <th>Promotion::End Date Promo</th>\n",
       "      <th>Pricing::Street</th>\n",
       "      <th>Promotion::Promo_Value</th>\n",
       "      <th>Promotion::Promo Type</th>\n",
       "      <th>...</th>\n",
       "      <th>Sell Through Estimate POS</th>\n",
       "      <th>Sell Through Estimate Inv</th>\n",
       "      <th>Final Quantity</th>\n",
       "      <th>Sell Through Estimate</th>\n",
       "      <th>SOP_Period</th>\n",
       "      <th>SOP_Half</th>\n",
       "      <th>SOP_Quarter</th>\n",
       "      <th>Usage ID</th>\n",
       "      <th>Account Factors::SAP Account</th>\n",
       "      <th>Promotion::LevelType</th>\n",
       "    </tr>\n",
       "  </thead>\n",
       "  <tbody>\n",
       "    <tr>\n",
       "      <th>0</th>\n",
       "      <td>2014-12-01</td>\n",
       "      <td>1010</td>\n",
       "      <td>6894</td>\n",
       "      <td>zzz</td>\n",
       "      <td>123</td>\n",
       "      <td>TP1</td>\n",
       "      <td>12/31/2014</td>\n",
       "      <td>459.99</td>\n",
       "      <td>7.0</td>\n",
       "      <td>2</td>\n",
       "      <td>...</td>\n",
       "      <td>371.0</td>\n",
       "      <td>62.000000</td>\n",
       "      <td>62.0</td>\n",
       "      <td>160.0</td>\n",
       "      <td>209</td>\n",
       "      <td>H2</td>\n",
       "      <td>Q3</td>\n",
       "      <td>23747.0</td>\n",
       "      <td>2</td>\n",
       "      <td>2</td>\n",
       "    </tr>\n",
       "    <tr>\n",
       "      <th>1</th>\n",
       "      <td>2014-12-01</td>\n",
       "      <td>1010</td>\n",
       "      <td>6894</td>\n",
       "      <td>zzz</td>\n",
       "      <td>123</td>\n",
       "      <td>TP1</td>\n",
       "      <td>12/31/2014</td>\n",
       "      <td>459.99</td>\n",
       "      <td>7.0</td>\n",
       "      <td>2</td>\n",
       "      <td>...</td>\n",
       "      <td>276.0</td>\n",
       "      <td>182.333333</td>\n",
       "      <td>0.0</td>\n",
       "      <td>0.0</td>\n",
       "      <td>209</td>\n",
       "      <td>H2</td>\n",
       "      <td>Q3</td>\n",
       "      <td>23749.0</td>\n",
       "      <td>1</td>\n",
       "      <td>1</td>\n",
       "    </tr>\n",
       "    <tr>\n",
       "      <th>2</th>\n",
       "      <td>2015-01-01</td>\n",
       "      <td>1080</td>\n",
       "      <td>6895</td>\n",
       "      <td>zzz</td>\n",
       "      <td>123</td>\n",
       "      <td>TP1</td>\n",
       "      <td>1/31/2015</td>\n",
       "      <td>459.99</td>\n",
       "      <td>30.0</td>\n",
       "      <td>1</td>\n",
       "      <td>...</td>\n",
       "      <td>181.0</td>\n",
       "      <td>302.666667</td>\n",
       "      <td>0.0</td>\n",
       "      <td>0.0</td>\n",
       "      <td>210</td>\n",
       "      <td>H2</td>\n",
       "      <td>Q1</td>\n",
       "      <td>23750.0</td>\n",
       "      <td>3</td>\n",
       "      <td>3</td>\n",
       "    </tr>\n",
       "    <tr>\n",
       "      <th>3</th>\n",
       "      <td>2015-01-01</td>\n",
       "      <td>1010</td>\n",
       "      <td>6895</td>\n",
       "      <td>zzz</td>\n",
       "      <td>123</td>\n",
       "      <td>TP1</td>\n",
       "      <td>1/31/2015</td>\n",
       "      <td>459.99</td>\n",
       "      <td>30.0</td>\n",
       "      <td>1</td>\n",
       "      <td>...</td>\n",
       "      <td>86.0</td>\n",
       "      <td>423.000000</td>\n",
       "      <td>423.0</td>\n",
       "      <td>160.0</td>\n",
       "      <td>210</td>\n",
       "      <td>H2</td>\n",
       "      <td>Q1</td>\n",
       "      <td>23751.0</td>\n",
       "      <td>2</td>\n",
       "      <td>2</td>\n",
       "    </tr>\n",
       "    <tr>\n",
       "      <th>4</th>\n",
       "      <td>2015-01-01</td>\n",
       "      <td>1010</td>\n",
       "      <td>6895</td>\n",
       "      <td>zzz</td>\n",
       "      <td>123</td>\n",
       "      <td>TP1</td>\n",
       "      <td>1/31/2015</td>\n",
       "      <td>459.99</td>\n",
       "      <td>30.0</td>\n",
       "      <td>1</td>\n",
       "      <td>...</td>\n",
       "      <td>69.5</td>\n",
       "      <td>390.000000</td>\n",
       "      <td>0.0</td>\n",
       "      <td>0.0</td>\n",
       "      <td>210</td>\n",
       "      <td>H2</td>\n",
       "      <td>Q1</td>\n",
       "      <td>23752.0</td>\n",
       "      <td>1</td>\n",
       "      <td>1</td>\n",
       "    </tr>\n",
       "  </tbody>\n",
       "</table>\n",
       "<p>5 rows × 29 columns</p>\n",
       "</div>"
      ],
      "text/plain": [
       "  Promotion::Start Date Promo  Account Factors::Profit Center  Promo ID  \\\n",
       "0                  2014-12-01                            1010      6894   \n",
       "1                  2014-12-01                            1010      6894   \n",
       "2                  2015-01-01                            1080      6895   \n",
       "3                  2015-01-01                            1010      6895   \n",
       "4                  2015-01-01                            1010      6895   \n",
       "\n",
       "  Pricing::Segment  Pricing::Engine Promotion::SKU Promotion::End Date Promo  \\\n",
       "0              zzz              123            TP1                12/31/2014   \n",
       "1              zzz              123            TP1                12/31/2014   \n",
       "2              zzz              123            TP1                 1/31/2015   \n",
       "3              zzz              123            TP1                 1/31/2015   \n",
       "4              zzz              123            TP1                 1/31/2015   \n",
       "\n",
       "   Pricing::Street  Promotion::Promo_Value  Promotion::Promo Type  ...  \\\n",
       "0           459.99                     7.0                      2  ...   \n",
       "1           459.99                     7.0                      2  ...   \n",
       "2           459.99                    30.0                      1  ...   \n",
       "3           459.99                    30.0                      1  ...   \n",
       "4           459.99                    30.0                      1  ...   \n",
       "\n",
       "   Sell Through Estimate POS  Sell Through Estimate Inv  Final Quantity  \\\n",
       "0                      371.0                  62.000000            62.0   \n",
       "1                      276.0                 182.333333             0.0   \n",
       "2                      181.0                 302.666667             0.0   \n",
       "3                       86.0                 423.000000           423.0   \n",
       "4                       69.5                 390.000000             0.0   \n",
       "\n",
       "   Sell Through Estimate  SOP_Period  SOP_Half  SOP_Quarter  Usage ID  \\\n",
       "0                  160.0         209        H2           Q3   23747.0   \n",
       "1                    0.0         209        H2           Q3   23749.0   \n",
       "2                    0.0         210        H2           Q1   23750.0   \n",
       "3                  160.0         210        H2           Q1   23751.0   \n",
       "4                    0.0         210        H2           Q1   23752.0   \n",
       "\n",
       "   Account Factors::SAP Account  Promotion::LevelType  \n",
       "0                             2                     2  \n",
       "1                             1                     1  \n",
       "2                             3                     3  \n",
       "3                             2                     2  \n",
       "4                             1                     1  \n",
       "\n",
       "[5 rows x 29 columns]"
      ]
     },
     "execution_count": 2,
     "metadata": {},
     "output_type": "execute_result"
    }
   ],
   "source": [
    "# Load data frames - will also load incasae to compare and contrast\n",
    "\n",
    "skudata_interpolated = pd.read_csv('C:/Users/patri/OneDrive/Desktop/CAP-Backup/Patrick_Advincula_Capstone_05-13-23/2-CSV_Output_after_EDA/skudata_interpolated.csv')\n",
    "skudata_interpolated.head()"
   ]
  },
  {
   "cell_type": "code",
   "execution_count": 3,
   "metadata": {},
   "outputs": [
    {
     "name": "stdout",
     "output_type": "stream",
     "text": [
      "<class 'pandas.core.frame.DataFrame'>\n",
      "RangeIndex: 1552 entries, 0 to 1551\n",
      "Data columns (total 29 columns):\n",
      " #   Column                            Non-Null Count  Dtype  \n",
      "---  ------                            --------------  -----  \n",
      " 0   Promotion::Start Date Promo       1552 non-null   object \n",
      " 1   Account Factors::Profit Center    1552 non-null   int64  \n",
      " 2   Promo ID                          1552 non-null   int64  \n",
      " 3   Pricing::Segment                  1552 non-null   object \n",
      " 4   Pricing::Engine                   1552 non-null   int64  \n",
      " 5   Promotion::SKU                    1552 non-null   object \n",
      " 6   Promotion::End Date Promo         1552 non-null   object \n",
      " 7   Pricing::Street                   1552 non-null   float64\n",
      " 8   Promotion::Promo_Value            1552 non-null   float64\n",
      " 9   Promotion::Promo Type             1552 non-null   int64  \n",
      " 10  Promotion::Promo_Net Price Point  1552 non-null   float64\n",
      " 11  Exp_Revenue Est                   1552 non-null   float64\n",
      " 12  Exp_Billing Profit                1552 non-null   float64\n",
      " 13  Exp_Billing Profit Supply         1552 non-null   float64\n",
      " 14  Exp_Promo                         1552 non-null   float64\n",
      " 15  Exp_Sales                         1552 non-null   float64\n",
      " 16  Exp_Net Billing Profit            1552 non-null   float64\n",
      " 17  Account                           1552 non-null   int64  \n",
      " 18  Sell Through Estimate Adj         1552 non-null   float64\n",
      " 19  Sell Through Estimate POS         1552 non-null   float64\n",
      " 20  Sell Through Estimate Inv         1552 non-null   float64\n",
      " 21  Final Quantity                    1552 non-null   float64\n",
      " 22  Sell Through Estimate             1552 non-null   float64\n",
      " 23  SOP_Period                        1552 non-null   int64  \n",
      " 24  SOP_Half                          1552 non-null   object \n",
      " 25  SOP_Quarter                       1552 non-null   object \n",
      " 26  Usage ID                          1552 non-null   float64\n",
      " 27  Account Factors::SAP Account      1552 non-null   int64  \n",
      " 28  Promotion::LevelType              1552 non-null   int64  \n",
      "dtypes: float64(15), int64(8), object(6)\n",
      "memory usage: 351.8+ KB\n"
     ]
    }
   ],
   "source": [
    "skudata_interpolated.info()"
   ]
  },
  {
   "cell_type": "code",
   "execution_count": 6,
   "metadata": {},
   "outputs": [
    {
     "data": {
      "text/html": [
       "<div>\n",
       "<style scoped>\n",
       "    .dataframe tbody tr th:only-of-type {\n",
       "        vertical-align: middle;\n",
       "    }\n",
       "\n",
       "    .dataframe tbody tr th {\n",
       "        vertical-align: top;\n",
       "    }\n",
       "\n",
       "    .dataframe thead th {\n",
       "        text-align: right;\n",
       "    }\n",
       "</style>\n",
       "<table border=\"1\" class=\"dataframe\">\n",
       "  <thead>\n",
       "    <tr style=\"text-align: right;\">\n",
       "      <th></th>\n",
       "      <th>Promotion::Start Date Promo</th>\n",
       "      <th>Account Factors::Profit Center</th>\n",
       "      <th>Promo ID</th>\n",
       "      <th>Pricing::Segment</th>\n",
       "      <th>Pricing::Engine</th>\n",
       "      <th>Promotion::SKU</th>\n",
       "      <th>Promotion::End Date Promo</th>\n",
       "      <th>Pricing::Street</th>\n",
       "      <th>Promotion::Promo_Value</th>\n",
       "      <th>Promotion::Promo Type</th>\n",
       "      <th>...</th>\n",
       "      <th>Sell Through Estimate POS</th>\n",
       "      <th>Sell Through Estimate Inv</th>\n",
       "      <th>Final Quantity</th>\n",
       "      <th>Sell Through Estimate</th>\n",
       "      <th>SOP_Period</th>\n",
       "      <th>SOP_Half</th>\n",
       "      <th>SOP_Quarter</th>\n",
       "      <th>Usage ID</th>\n",
       "      <th>Account Factors::SAP Account</th>\n",
       "      <th>Promotion::LevelType</th>\n",
       "    </tr>\n",
       "  </thead>\n",
       "  <tbody>\n",
       "    <tr>\n",
       "      <th>0</th>\n",
       "      <td>2014-12-01</td>\n",
       "      <td>1010</td>\n",
       "      <td>6894</td>\n",
       "      <td>zzz</td>\n",
       "      <td>123</td>\n",
       "      <td>TP1</td>\n",
       "      <td>12/31/2014</td>\n",
       "      <td>459.99</td>\n",
       "      <td>7.0</td>\n",
       "      <td>2</td>\n",
       "      <td>...</td>\n",
       "      <td>371.000000</td>\n",
       "      <td>62.0</td>\n",
       "      <td>62.0</td>\n",
       "      <td>160.0</td>\n",
       "      <td>209</td>\n",
       "      <td>H2</td>\n",
       "      <td>Q3</td>\n",
       "      <td>23747.0</td>\n",
       "      <td>2</td>\n",
       "      <td>2</td>\n",
       "    </tr>\n",
       "    <tr>\n",
       "      <th>1</th>\n",
       "      <td>2015-01-01</td>\n",
       "      <td>1010</td>\n",
       "      <td>6895</td>\n",
       "      <td>zzz</td>\n",
       "      <td>123</td>\n",
       "      <td>TP1</td>\n",
       "      <td>1/31/2015</td>\n",
       "      <td>459.99</td>\n",
       "      <td>30.0</td>\n",
       "      <td>1</td>\n",
       "      <td>...</td>\n",
       "      <td>86.000000</td>\n",
       "      <td>423.0</td>\n",
       "      <td>423.0</td>\n",
       "      <td>160.0</td>\n",
       "      <td>210</td>\n",
       "      <td>H2</td>\n",
       "      <td>Q1</td>\n",
       "      <td>23751.0</td>\n",
       "      <td>2</td>\n",
       "      <td>2</td>\n",
       "    </tr>\n",
       "    <tr>\n",
       "      <th>2</th>\n",
       "      <td>2015-01-01</td>\n",
       "      <td>1010</td>\n",
       "      <td>6896</td>\n",
       "      <td>zzz</td>\n",
       "      <td>123</td>\n",
       "      <td>TP1</td>\n",
       "      <td>1/31/2015</td>\n",
       "      <td>459.99</td>\n",
       "      <td>5.0</td>\n",
       "      <td>2</td>\n",
       "      <td>...</td>\n",
       "      <td>20.000000</td>\n",
       "      <td>291.0</td>\n",
       "      <td>20.0</td>\n",
       "      <td>80.0</td>\n",
       "      <td>210</td>\n",
       "      <td>H2</td>\n",
       "      <td>Q1</td>\n",
       "      <td>23755.0</td>\n",
       "      <td>2</td>\n",
       "      <td>2</td>\n",
       "    </tr>\n",
       "    <tr>\n",
       "      <th>3</th>\n",
       "      <td>2015-02-01</td>\n",
       "      <td>1010</td>\n",
       "      <td>6897</td>\n",
       "      <td>zzz</td>\n",
       "      <td>123</td>\n",
       "      <td>TP1</td>\n",
       "      <td>2/28/2015</td>\n",
       "      <td>459.99</td>\n",
       "      <td>30.0</td>\n",
       "      <td>2</td>\n",
       "      <td>...</td>\n",
       "      <td>170.000000</td>\n",
       "      <td>258.0</td>\n",
       "      <td>258.0</td>\n",
       "      <td>160.0</td>\n",
       "      <td>211</td>\n",
       "      <td>H2</td>\n",
       "      <td>Q4</td>\n",
       "      <td>23756.0</td>\n",
       "      <td>2</td>\n",
       "      <td>2</td>\n",
       "    </tr>\n",
       "    <tr>\n",
       "      <th>4</th>\n",
       "      <td>2015-03-01</td>\n",
       "      <td>1010</td>\n",
       "      <td>6898</td>\n",
       "      <td>zzz</td>\n",
       "      <td>123</td>\n",
       "      <td>TP1</td>\n",
       "      <td>3/31/2015</td>\n",
       "      <td>459.99</td>\n",
       "      <td>30.0</td>\n",
       "      <td>2</td>\n",
       "      <td>...</td>\n",
       "      <td>73.428571</td>\n",
       "      <td>137.0</td>\n",
       "      <td>137.0</td>\n",
       "      <td>121.0</td>\n",
       "      <td>212</td>\n",
       "      <td>H2</td>\n",
       "      <td>Q4</td>\n",
       "      <td>23760.0</td>\n",
       "      <td>2</td>\n",
       "      <td>2</td>\n",
       "    </tr>\n",
       "  </tbody>\n",
       "</table>\n",
       "<p>5 rows × 29 columns</p>\n",
       "</div>"
      ],
      "text/plain": [
       "  Promotion::Start Date Promo  Account Factors::Profit Center  Promo ID  \\\n",
       "0                  2014-12-01                            1010      6894   \n",
       "1                  2015-01-01                            1010      6895   \n",
       "2                  2015-01-01                            1010      6896   \n",
       "3                  2015-02-01                            1010      6897   \n",
       "4                  2015-03-01                            1010      6898   \n",
       "\n",
       "  Pricing::Segment  Pricing::Engine Promotion::SKU Promotion::End Date Promo  \\\n",
       "0              zzz              123            TP1                12/31/2014   \n",
       "1              zzz              123            TP1                 1/31/2015   \n",
       "2              zzz              123            TP1                 1/31/2015   \n",
       "3              zzz              123            TP1                 2/28/2015   \n",
       "4              zzz              123            TP1                 3/31/2015   \n",
       "\n",
       "   Pricing::Street  Promotion::Promo_Value  Promotion::Promo Type  ...  \\\n",
       "0           459.99                     7.0                      2  ...   \n",
       "1           459.99                    30.0                      1  ...   \n",
       "2           459.99                     5.0                      2  ...   \n",
       "3           459.99                    30.0                      2  ...   \n",
       "4           459.99                    30.0                      2  ...   \n",
       "\n",
       "   Sell Through Estimate POS  Sell Through Estimate Inv  Final Quantity  \\\n",
       "0                 371.000000                       62.0            62.0   \n",
       "1                  86.000000                      423.0           423.0   \n",
       "2                  20.000000                      291.0            20.0   \n",
       "3                 170.000000                      258.0           258.0   \n",
       "4                  73.428571                      137.0           137.0   \n",
       "\n",
       "   Sell Through Estimate  SOP_Period  SOP_Half  SOP_Quarter  Usage ID  \\\n",
       "0                  160.0         209        H2           Q3   23747.0   \n",
       "1                  160.0         210        H2           Q1   23751.0   \n",
       "2                   80.0         210        H2           Q1   23755.0   \n",
       "3                  160.0         211        H2           Q4   23756.0   \n",
       "4                  121.0         212        H2           Q4   23760.0   \n",
       "\n",
       "   Account Factors::SAP Account  Promotion::LevelType  \n",
       "0                             2                     2  \n",
       "1                             2                     2  \n",
       "2                             2                     2  \n",
       "3                             2                     2  \n",
       "4                             2                     2  \n",
       "\n",
       "[5 rows x 29 columns]"
      ]
     },
     "execution_count": 6,
     "metadata": {},
     "output_type": "execute_result"
    }
   ],
   "source": [
    "# Loading this to compare and contrast datasets.\n",
    "\n",
    "no_zero = pd.read_csv('C:/Users/patri/OneDrive/Desktop/CAP-Backup/Patrick_Advincula_Capstone_05-13-23/2-CSV_Output_after_EDA/no_zero.csv')\n",
    "no_zero.head()"
   ]
  },
  {
   "cell_type": "code",
   "execution_count": 7,
   "metadata": {},
   "outputs": [
    {
     "name": "stdout",
     "output_type": "stream",
     "text": [
      "<class 'pandas.core.frame.DataFrame'>\n",
      "RangeIndex: 716 entries, 0 to 715\n",
      "Data columns (total 29 columns):\n",
      " #   Column                            Non-Null Count  Dtype  \n",
      "---  ------                            --------------  -----  \n",
      " 0   Promotion::Start Date Promo       716 non-null    object \n",
      " 1   Account Factors::Profit Center    716 non-null    int64  \n",
      " 2   Promo ID                          716 non-null    int64  \n",
      " 3   Pricing::Segment                  716 non-null    object \n",
      " 4   Pricing::Engine                   716 non-null    int64  \n",
      " 5   Promotion::SKU                    716 non-null    object \n",
      " 6   Promotion::End Date Promo         716 non-null    object \n",
      " 7   Pricing::Street                   716 non-null    float64\n",
      " 8   Promotion::Promo_Value            716 non-null    float64\n",
      " 9   Promotion::Promo Type             716 non-null    int64  \n",
      " 10  Promotion::Promo_Net Price Point  716 non-null    float64\n",
      " 11  Exp_Revenue Est                   716 non-null    float64\n",
      " 12  Exp_Billing Profit                716 non-null    float64\n",
      " 13  Exp_Billing Profit Supply         716 non-null    float64\n",
      " 14  Exp_Promo                         716 non-null    float64\n",
      " 15  Exp_Sales                         716 non-null    float64\n",
      " 16  Exp_Net Billing Profit            716 non-null    float64\n",
      " 17  Account                           716 non-null    int64  \n",
      " 18  Sell Through Estimate Adj         716 non-null    float64\n",
      " 19  Sell Through Estimate POS         716 non-null    float64\n",
      " 20  Sell Through Estimate Inv         716 non-null    float64\n",
      " 21  Final Quantity                    716 non-null    float64\n",
      " 22  Sell Through Estimate             716 non-null    float64\n",
      " 23  SOP_Period                        716 non-null    int64  \n",
      " 24  SOP_Half                          716 non-null    object \n",
      " 25  SOP_Quarter                       716 non-null    object \n",
      " 26  Usage ID                          716 non-null    float64\n",
      " 27  Account Factors::SAP Account      716 non-null    int64  \n",
      " 28  Promotion::LevelType              716 non-null    int64  \n",
      "dtypes: float64(15), int64(8), object(6)\n",
      "memory usage: 162.3+ KB\n"
     ]
    }
   ],
   "source": [
    "no_zero.info()"
   ]
  },
  {
   "cell_type": "code",
   "execution_count": 8,
   "metadata": {},
   "outputs": [],
   "source": [
    "#Lets adjust our date dtype\n",
    "\n",
    "skudata_interpolated['Promotion::Start Date Promo'] = pd.to_datetime(skudata_interpolated['Promotion::Start Date Promo'])"
   ]
  },
  {
   "cell_type": "code",
   "execution_count": 9,
   "metadata": {},
   "outputs": [],
   "source": [
    "no_zero['Promotion::Start Date Promo'] = pd.to_datetime(no_zero['Promotion::Start Date Promo'])"
   ]
  },
  {
   "cell_type": "code",
   "execution_count": 10,
   "metadata": {},
   "outputs": [],
   "source": [
    "from statsmodels.tsa.statespace.sarimax import SARIMAX"
   ]
  },
  {
   "cell_type": "code",
   "execution_count": 11,
   "metadata": {},
   "outputs": [],
   "source": [
    "from statsmodels.tsa.seasonal import seasonal_decompose"
   ]
  },
  {
   "cell_type": "code",
   "execution_count": 12,
   "metadata": {},
   "outputs": [],
   "source": [
    "#pip install pmdarima"
   ]
  },
  {
   "cell_type": "code",
   "execution_count": 13,
   "metadata": {},
   "outputs": [],
   "source": [
    "from pmdarima import auto_arima"
   ]
  },
  {
   "attachments": {},
   "cell_type": "markdown",
   "metadata": {},
   "source": [
    "# Lets config the Date to index"
   ]
  },
  {
   "cell_type": "code",
   "execution_count": 14,
   "metadata": {},
   "outputs": [
    {
     "data": {
      "text/html": [
       "<div>\n",
       "<style scoped>\n",
       "    .dataframe tbody tr th:only-of-type {\n",
       "        vertical-align: middle;\n",
       "    }\n",
       "\n",
       "    .dataframe tbody tr th {\n",
       "        vertical-align: top;\n",
       "    }\n",
       "\n",
       "    .dataframe thead th {\n",
       "        text-align: right;\n",
       "    }\n",
       "</style>\n",
       "<table border=\"1\" class=\"dataframe\">\n",
       "  <thead>\n",
       "    <tr style=\"text-align: right;\">\n",
       "      <th></th>\n",
       "      <th>Account Factors::Profit Center</th>\n",
       "      <th>Promo ID</th>\n",
       "      <th>Pricing::Segment</th>\n",
       "      <th>Pricing::Engine</th>\n",
       "      <th>Promotion::SKU</th>\n",
       "      <th>Promotion::End Date Promo</th>\n",
       "      <th>Pricing::Street</th>\n",
       "      <th>Promotion::Promo_Value</th>\n",
       "      <th>Promotion::Promo Type</th>\n",
       "      <th>Promotion::Promo_Net Price Point</th>\n",
       "      <th>...</th>\n",
       "      <th>Sell Through Estimate POS</th>\n",
       "      <th>Sell Through Estimate Inv</th>\n",
       "      <th>Final Quantity</th>\n",
       "      <th>Sell Through Estimate</th>\n",
       "      <th>SOP_Period</th>\n",
       "      <th>SOP_Half</th>\n",
       "      <th>SOP_Quarter</th>\n",
       "      <th>Usage ID</th>\n",
       "      <th>Account Factors::SAP Account</th>\n",
       "      <th>Promotion::LevelType</th>\n",
       "    </tr>\n",
       "    <tr>\n",
       "      <th>Promotion::Start Date Promo</th>\n",
       "      <th></th>\n",
       "      <th></th>\n",
       "      <th></th>\n",
       "      <th></th>\n",
       "      <th></th>\n",
       "      <th></th>\n",
       "      <th></th>\n",
       "      <th></th>\n",
       "      <th></th>\n",
       "      <th></th>\n",
       "      <th></th>\n",
       "      <th></th>\n",
       "      <th></th>\n",
       "      <th></th>\n",
       "      <th></th>\n",
       "      <th></th>\n",
       "      <th></th>\n",
       "      <th></th>\n",
       "      <th></th>\n",
       "      <th></th>\n",
       "      <th></th>\n",
       "    </tr>\n",
       "  </thead>\n",
       "  <tbody>\n",
       "    <tr>\n",
       "      <th>2014-12-01</th>\n",
       "      <td>1010</td>\n",
       "      <td>6894</td>\n",
       "      <td>zzz</td>\n",
       "      <td>123</td>\n",
       "      <td>TP1</td>\n",
       "      <td>12/31/2014</td>\n",
       "      <td>459.99</td>\n",
       "      <td>7.0</td>\n",
       "      <td>2</td>\n",
       "      <td>452.99</td>\n",
       "      <td>...</td>\n",
       "      <td>371.0</td>\n",
       "      <td>62.000000</td>\n",
       "      <td>62.0</td>\n",
       "      <td>160.0</td>\n",
       "      <td>209</td>\n",
       "      <td>H2</td>\n",
       "      <td>Q3</td>\n",
       "      <td>23747.0</td>\n",
       "      <td>2</td>\n",
       "      <td>2</td>\n",
       "    </tr>\n",
       "    <tr>\n",
       "      <th>2014-12-01</th>\n",
       "      <td>1010</td>\n",
       "      <td>6894</td>\n",
       "      <td>zzz</td>\n",
       "      <td>123</td>\n",
       "      <td>TP1</td>\n",
       "      <td>12/31/2014</td>\n",
       "      <td>459.99</td>\n",
       "      <td>7.0</td>\n",
       "      <td>2</td>\n",
       "      <td>452.99</td>\n",
       "      <td>...</td>\n",
       "      <td>276.0</td>\n",
       "      <td>182.333333</td>\n",
       "      <td>0.0</td>\n",
       "      <td>0.0</td>\n",
       "      <td>209</td>\n",
       "      <td>H2</td>\n",
       "      <td>Q3</td>\n",
       "      <td>23749.0</td>\n",
       "      <td>1</td>\n",
       "      <td>1</td>\n",
       "    </tr>\n",
       "    <tr>\n",
       "      <th>2015-01-01</th>\n",
       "      <td>1080</td>\n",
       "      <td>6895</td>\n",
       "      <td>zzz</td>\n",
       "      <td>123</td>\n",
       "      <td>TP1</td>\n",
       "      <td>1/31/2015</td>\n",
       "      <td>459.99</td>\n",
       "      <td>30.0</td>\n",
       "      <td>1</td>\n",
       "      <td>429.99</td>\n",
       "      <td>...</td>\n",
       "      <td>181.0</td>\n",
       "      <td>302.666667</td>\n",
       "      <td>0.0</td>\n",
       "      <td>0.0</td>\n",
       "      <td>210</td>\n",
       "      <td>H2</td>\n",
       "      <td>Q1</td>\n",
       "      <td>23750.0</td>\n",
       "      <td>3</td>\n",
       "      <td>3</td>\n",
       "    </tr>\n",
       "    <tr>\n",
       "      <th>2015-01-01</th>\n",
       "      <td>1010</td>\n",
       "      <td>6895</td>\n",
       "      <td>zzz</td>\n",
       "      <td>123</td>\n",
       "      <td>TP1</td>\n",
       "      <td>1/31/2015</td>\n",
       "      <td>459.99</td>\n",
       "      <td>30.0</td>\n",
       "      <td>1</td>\n",
       "      <td>429.99</td>\n",
       "      <td>...</td>\n",
       "      <td>86.0</td>\n",
       "      <td>423.000000</td>\n",
       "      <td>423.0</td>\n",
       "      <td>160.0</td>\n",
       "      <td>210</td>\n",
       "      <td>H2</td>\n",
       "      <td>Q1</td>\n",
       "      <td>23751.0</td>\n",
       "      <td>2</td>\n",
       "      <td>2</td>\n",
       "    </tr>\n",
       "    <tr>\n",
       "      <th>2015-01-01</th>\n",
       "      <td>1010</td>\n",
       "      <td>6895</td>\n",
       "      <td>zzz</td>\n",
       "      <td>123</td>\n",
       "      <td>TP1</td>\n",
       "      <td>1/31/2015</td>\n",
       "      <td>459.99</td>\n",
       "      <td>30.0</td>\n",
       "      <td>1</td>\n",
       "      <td>429.99</td>\n",
       "      <td>...</td>\n",
       "      <td>69.5</td>\n",
       "      <td>390.000000</td>\n",
       "      <td>0.0</td>\n",
       "      <td>0.0</td>\n",
       "      <td>210</td>\n",
       "      <td>H2</td>\n",
       "      <td>Q1</td>\n",
       "      <td>23752.0</td>\n",
       "      <td>1</td>\n",
       "      <td>1</td>\n",
       "    </tr>\n",
       "  </tbody>\n",
       "</table>\n",
       "<p>5 rows × 28 columns</p>\n",
       "</div>"
      ],
      "text/plain": [
       "                             Account Factors::Profit Center  Promo ID  \\\n",
       "Promotion::Start Date Promo                                             \n",
       "2014-12-01                                             1010      6894   \n",
       "2014-12-01                                             1010      6894   \n",
       "2015-01-01                                             1080      6895   \n",
       "2015-01-01                                             1010      6895   \n",
       "2015-01-01                                             1010      6895   \n",
       "\n",
       "                            Pricing::Segment  Pricing::Engine Promotion::SKU  \\\n",
       "Promotion::Start Date Promo                                                    \n",
       "2014-12-01                               zzz              123            TP1   \n",
       "2014-12-01                               zzz              123            TP1   \n",
       "2015-01-01                               zzz              123            TP1   \n",
       "2015-01-01                               zzz              123            TP1   \n",
       "2015-01-01                               zzz              123            TP1   \n",
       "\n",
       "                            Promotion::End Date Promo  Pricing::Street  \\\n",
       "Promotion::Start Date Promo                                              \n",
       "2014-12-01                                 12/31/2014           459.99   \n",
       "2014-12-01                                 12/31/2014           459.99   \n",
       "2015-01-01                                  1/31/2015           459.99   \n",
       "2015-01-01                                  1/31/2015           459.99   \n",
       "2015-01-01                                  1/31/2015           459.99   \n",
       "\n",
       "                             Promotion::Promo_Value  Promotion::Promo Type  \\\n",
       "Promotion::Start Date Promo                                                  \n",
       "2014-12-01                                      7.0                      2   \n",
       "2014-12-01                                      7.0                      2   \n",
       "2015-01-01                                     30.0                      1   \n",
       "2015-01-01                                     30.0                      1   \n",
       "2015-01-01                                     30.0                      1   \n",
       "\n",
       "                             Promotion::Promo_Net Price Point  ...  \\\n",
       "Promotion::Start Date Promo                                    ...   \n",
       "2014-12-01                                             452.99  ...   \n",
       "2014-12-01                                             452.99  ...   \n",
       "2015-01-01                                             429.99  ...   \n",
       "2015-01-01                                             429.99  ...   \n",
       "2015-01-01                                             429.99  ...   \n",
       "\n",
       "                             Sell Through Estimate POS  \\\n",
       "Promotion::Start Date Promo                              \n",
       "2014-12-01                                       371.0   \n",
       "2014-12-01                                       276.0   \n",
       "2015-01-01                                       181.0   \n",
       "2015-01-01                                        86.0   \n",
       "2015-01-01                                        69.5   \n",
       "\n",
       "                             Sell Through Estimate Inv  Final Quantity  \\\n",
       "Promotion::Start Date Promo                                              \n",
       "2014-12-01                                   62.000000            62.0   \n",
       "2014-12-01                                  182.333333             0.0   \n",
       "2015-01-01                                  302.666667             0.0   \n",
       "2015-01-01                                  423.000000           423.0   \n",
       "2015-01-01                                  390.000000             0.0   \n",
       "\n",
       "                             Sell Through Estimate  SOP_Period  SOP_Half  \\\n",
       "Promotion::Start Date Promo                                                \n",
       "2014-12-01                                   160.0         209        H2   \n",
       "2014-12-01                                     0.0         209        H2   \n",
       "2015-01-01                                     0.0         210        H2   \n",
       "2015-01-01                                   160.0         210        H2   \n",
       "2015-01-01                                     0.0         210        H2   \n",
       "\n",
       "                             SOP_Quarter  Usage ID  \\\n",
       "Promotion::Start Date Promo                          \n",
       "2014-12-01                            Q3   23747.0   \n",
       "2014-12-01                            Q3   23749.0   \n",
       "2015-01-01                            Q1   23750.0   \n",
       "2015-01-01                            Q1   23751.0   \n",
       "2015-01-01                            Q1   23752.0   \n",
       "\n",
       "                             Account Factors::SAP Account  \\\n",
       "Promotion::Start Date Promo                                 \n",
       "2014-12-01                                              2   \n",
       "2014-12-01                                              1   \n",
       "2015-01-01                                              3   \n",
       "2015-01-01                                              2   \n",
       "2015-01-01                                              1   \n",
       "\n",
       "                             Promotion::LevelType  \n",
       "Promotion::Start Date Promo                        \n",
       "2014-12-01                                      2  \n",
       "2014-12-01                                      1  \n",
       "2015-01-01                                      3  \n",
       "2015-01-01                                      2  \n",
       "2015-01-01                                      1  \n",
       "\n",
       "[5 rows x 28 columns]"
      ]
     },
     "execution_count": 14,
     "metadata": {},
     "output_type": "execute_result"
    }
   ],
   "source": [
    "# Set as Index\n",
    "\n",
    "skudata_interpolated[\"Promotion::Start Date Promo\"] = pd.to_datetime(skudata_interpolated[\"Promotion::Start Date Promo\"])\n",
    "skudata_interpolated = skudata_interpolated.set_index(\"Promotion::Start Date Promo\")\n",
    "\n",
    "skudata_interpolated.head()"
   ]
  },
  {
   "cell_type": "code",
   "execution_count": 15,
   "metadata": {},
   "outputs": [
    {
     "name": "stderr",
     "output_type": "stream",
     "text": [
      "C:\\Users\\patri\\AppData\\Local\\Temp\\ipykernel_9952\\1909837268.py:2: FutureWarning: The default value of numeric_only in DataFrameGroupBy.sum is deprecated. In a future version, numeric_only will default to False. Either specify numeric_only or select only columns which should be valid for the function.\n",
      "  skudata_interpolatedMS = skudata_interpolated.resample(\"MS\").sum()\n"
     ]
    },
    {
     "data": {
      "text/html": [
       "<div>\n",
       "<style scoped>\n",
       "    .dataframe tbody tr th:only-of-type {\n",
       "        vertical-align: middle;\n",
       "    }\n",
       "\n",
       "    .dataframe tbody tr th {\n",
       "        vertical-align: top;\n",
       "    }\n",
       "\n",
       "    .dataframe thead th {\n",
       "        text-align: right;\n",
       "    }\n",
       "</style>\n",
       "<table border=\"1\" class=\"dataframe\">\n",
       "  <thead>\n",
       "    <tr style=\"text-align: right;\">\n",
       "      <th></th>\n",
       "      <th>Account Factors::Profit Center</th>\n",
       "      <th>Promo ID</th>\n",
       "      <th>Pricing::Engine</th>\n",
       "      <th>Pricing::Street</th>\n",
       "      <th>Promotion::Promo_Value</th>\n",
       "      <th>Promotion::Promo Type</th>\n",
       "      <th>Promotion::Promo_Net Price Point</th>\n",
       "      <th>Exp_Revenue Est</th>\n",
       "      <th>Exp_Billing Profit</th>\n",
       "      <th>Exp_Billing Profit Supply</th>\n",
       "      <th>...</th>\n",
       "      <th>Account</th>\n",
       "      <th>Sell Through Estimate Adj</th>\n",
       "      <th>Sell Through Estimate POS</th>\n",
       "      <th>Sell Through Estimate Inv</th>\n",
       "      <th>Final Quantity</th>\n",
       "      <th>Sell Through Estimate</th>\n",
       "      <th>SOP_Period</th>\n",
       "      <th>Usage ID</th>\n",
       "      <th>Account Factors::SAP Account</th>\n",
       "      <th>Promotion::LevelType</th>\n",
       "    </tr>\n",
       "    <tr>\n",
       "      <th>Promotion::Start Date Promo</th>\n",
       "      <th></th>\n",
       "      <th></th>\n",
       "      <th></th>\n",
       "      <th></th>\n",
       "      <th></th>\n",
       "      <th></th>\n",
       "      <th></th>\n",
       "      <th></th>\n",
       "      <th></th>\n",
       "      <th></th>\n",
       "      <th></th>\n",
       "      <th></th>\n",
       "      <th></th>\n",
       "      <th></th>\n",
       "      <th></th>\n",
       "      <th></th>\n",
       "      <th></th>\n",
       "      <th></th>\n",
       "      <th></th>\n",
       "      <th></th>\n",
       "      <th></th>\n",
       "    </tr>\n",
       "  </thead>\n",
       "  <tbody>\n",
       "    <tr>\n",
       "      <th>2014-11-01</th>\n",
       "      <td>5120</td>\n",
       "      <td>36880</td>\n",
       "      <td>615</td>\n",
       "      <td>2299.95</td>\n",
       "      <td>150.0</td>\n",
       "      <td>10</td>\n",
       "      <td>2149.95</td>\n",
       "      <td>20363.206068</td>\n",
       "      <td>3729.680586</td>\n",
       "      <td>21971.930194</td>\n",
       "      <td>...</td>\n",
       "      <td>8</td>\n",
       "      <td>360.0</td>\n",
       "      <td>46.373626</td>\n",
       "      <td>1135.500000</td>\n",
       "      <td>232.00</td>\n",
       "      <td>360.0</td>\n",
       "      <td>1040</td>\n",
       "      <td>142065.0</td>\n",
       "      <td>8</td>\n",
       "      <td>8</td>\n",
       "    </tr>\n",
       "    <tr>\n",
       "      <th>2014-12-01</th>\n",
       "      <td>5050</td>\n",
       "      <td>34470</td>\n",
       "      <td>615</td>\n",
       "      <td>2299.95</td>\n",
       "      <td>35.0</td>\n",
       "      <td>10</td>\n",
       "      <td>2264.95</td>\n",
       "      <td>28847.875258</td>\n",
       "      <td>5283.714163</td>\n",
       "      <td>31126.901108</td>\n",
       "      <td>...</td>\n",
       "      <td>7</td>\n",
       "      <td>560.0</td>\n",
       "      <td>661.846154</td>\n",
       "      <td>1156.071429</td>\n",
       "      <td>460.00</td>\n",
       "      <td>870.0</td>\n",
       "      <td>1045</td>\n",
       "      <td>134127.0</td>\n",
       "      <td>7</td>\n",
       "      <td>7</td>\n",
       "    </tr>\n",
       "    <tr>\n",
       "      <th>2015-01-01</th>\n",
       "      <td>11250</td>\n",
       "      <td>75849</td>\n",
       "      <td>1353</td>\n",
       "      <td>5059.89</td>\n",
       "      <td>230.0</td>\n",
       "      <td>15</td>\n",
       "      <td>4709.89</td>\n",
       "      <td>62786.552038</td>\n",
       "      <td>11499.848473</td>\n",
       "      <td>67746.784758</td>\n",
       "      <td>...</td>\n",
       "      <td>19</td>\n",
       "      <td>2142.5</td>\n",
       "      <td>638.686813</td>\n",
       "      <td>3601.566667</td>\n",
       "      <td>1996.25</td>\n",
       "      <td>2142.5</td>\n",
       "      <td>2310</td>\n",
       "      <td>290728.0</td>\n",
       "      <td>19</td>\n",
       "      <td>19</td>\n",
       "    </tr>\n",
       "    <tr>\n",
       "      <th>2015-02-01</th>\n",
       "      <td>11180</td>\n",
       "      <td>77137</td>\n",
       "      <td>1353</td>\n",
       "      <td>5059.89</td>\n",
       "      <td>280.0</td>\n",
       "      <td>22</td>\n",
       "      <td>4674.89</td>\n",
       "      <td>37332.544453</td>\n",
       "      <td>6837.747740</td>\n",
       "      <td>40281.872019</td>\n",
       "      <td>...</td>\n",
       "      <td>18</td>\n",
       "      <td>1845.0</td>\n",
       "      <td>400.291209</td>\n",
       "      <td>3134.178571</td>\n",
       "      <td>2048.45</td>\n",
       "      <td>2825.0</td>\n",
       "      <td>2321</td>\n",
       "      <td>316510.0</td>\n",
       "      <td>18</td>\n",
       "      <td>18</td>\n",
       "    </tr>\n",
       "    <tr>\n",
       "      <th>2015-03-01</th>\n",
       "      <td>9160</td>\n",
       "      <td>62797</td>\n",
       "      <td>1107</td>\n",
       "      <td>4139.91</td>\n",
       "      <td>245.0</td>\n",
       "      <td>18</td>\n",
       "      <td>3824.91</td>\n",
       "      <td>29470.084337</td>\n",
       "      <td>5397.676626</td>\n",
       "      <td>31798.265641</td>\n",
       "      <td>...</td>\n",
       "      <td>16</td>\n",
       "      <td>1216.0</td>\n",
       "      <td>279.054945</td>\n",
       "      <td>2234.333333</td>\n",
       "      <td>1494.80</td>\n",
       "      <td>1986.0</td>\n",
       "      <td>1908</td>\n",
       "      <td>255786.0</td>\n",
       "      <td>16</td>\n",
       "      <td>16</td>\n",
       "    </tr>\n",
       "  </tbody>\n",
       "</table>\n",
       "<p>5 rows × 23 columns</p>\n",
       "</div>"
      ],
      "text/plain": [
       "                             Account Factors::Profit Center  Promo ID  \\\n",
       "Promotion::Start Date Promo                                             \n",
       "2014-11-01                                             5120     36880   \n",
       "2014-12-01                                             5050     34470   \n",
       "2015-01-01                                            11250     75849   \n",
       "2015-02-01                                            11180     77137   \n",
       "2015-03-01                                             9160     62797   \n",
       "\n",
       "                             Pricing::Engine  Pricing::Street  \\\n",
       "Promotion::Start Date Promo                                     \n",
       "2014-11-01                               615          2299.95   \n",
       "2014-12-01                               615          2299.95   \n",
       "2015-01-01                              1353          5059.89   \n",
       "2015-02-01                              1353          5059.89   \n",
       "2015-03-01                              1107          4139.91   \n",
       "\n",
       "                             Promotion::Promo_Value  Promotion::Promo Type  \\\n",
       "Promotion::Start Date Promo                                                  \n",
       "2014-11-01                                    150.0                     10   \n",
       "2014-12-01                                     35.0                     10   \n",
       "2015-01-01                                    230.0                     15   \n",
       "2015-02-01                                    280.0                     22   \n",
       "2015-03-01                                    245.0                     18   \n",
       "\n",
       "                             Promotion::Promo_Net Price Point  \\\n",
       "Promotion::Start Date Promo                                     \n",
       "2014-11-01                                            2149.95   \n",
       "2014-12-01                                            2264.95   \n",
       "2015-01-01                                            4709.89   \n",
       "2015-02-01                                            4674.89   \n",
       "2015-03-01                                            3824.91   \n",
       "\n",
       "                             Exp_Revenue Est  Exp_Billing Profit  \\\n",
       "Promotion::Start Date Promo                                        \n",
       "2014-11-01                      20363.206068         3729.680586   \n",
       "2014-12-01                      28847.875258         5283.714163   \n",
       "2015-01-01                      62786.552038        11499.848473   \n",
       "2015-02-01                      37332.544453         6837.747740   \n",
       "2015-03-01                      29470.084337         5397.676626   \n",
       "\n",
       "                             Exp_Billing Profit Supply  ...  Account  \\\n",
       "Promotion::Start Date Promo                             ...            \n",
       "2014-11-01                                21971.930194  ...        8   \n",
       "2014-12-01                                31126.901108  ...        7   \n",
       "2015-01-01                                67746.784758  ...       19   \n",
       "2015-02-01                                40281.872019  ...       18   \n",
       "2015-03-01                                31798.265641  ...       16   \n",
       "\n",
       "                             Sell Through Estimate Adj  \\\n",
       "Promotion::Start Date Promo                              \n",
       "2014-11-01                                       360.0   \n",
       "2014-12-01                                       560.0   \n",
       "2015-01-01                                      2142.5   \n",
       "2015-02-01                                      1845.0   \n",
       "2015-03-01                                      1216.0   \n",
       "\n",
       "                             Sell Through Estimate POS  \\\n",
       "Promotion::Start Date Promo                              \n",
       "2014-11-01                                   46.373626   \n",
       "2014-12-01                                  661.846154   \n",
       "2015-01-01                                  638.686813   \n",
       "2015-02-01                                  400.291209   \n",
       "2015-03-01                                  279.054945   \n",
       "\n",
       "                             Sell Through Estimate Inv  Final Quantity  \\\n",
       "Promotion::Start Date Promo                                              \n",
       "2014-11-01                                 1135.500000          232.00   \n",
       "2014-12-01                                 1156.071429          460.00   \n",
       "2015-01-01                                 3601.566667         1996.25   \n",
       "2015-02-01                                 3134.178571         2048.45   \n",
       "2015-03-01                                 2234.333333         1494.80   \n",
       "\n",
       "                             Sell Through Estimate  SOP_Period  Usage ID  \\\n",
       "Promotion::Start Date Promo                                                \n",
       "2014-11-01                                   360.0        1040  142065.0   \n",
       "2014-12-01                                   870.0        1045  134127.0   \n",
       "2015-01-01                                  2142.5        2310  290728.0   \n",
       "2015-02-01                                  2825.0        2321  316510.0   \n",
       "2015-03-01                                  1986.0        1908  255786.0   \n",
       "\n",
       "                             Account Factors::SAP Account  \\\n",
       "Promotion::Start Date Promo                                 \n",
       "2014-11-01                                              8   \n",
       "2014-12-01                                              7   \n",
       "2015-01-01                                             19   \n",
       "2015-02-01                                             18   \n",
       "2015-03-01                                             16   \n",
       "\n",
       "                             Promotion::LevelType  \n",
       "Promotion::Start Date Promo                        \n",
       "2014-11-01                                      8  \n",
       "2014-12-01                                      7  \n",
       "2015-01-01                                     19  \n",
       "2015-02-01                                     18  \n",
       "2015-03-01                                     16  \n",
       "\n",
       "[5 rows x 23 columns]"
      ]
     },
     "execution_count": 15,
     "metadata": {},
     "output_type": "execute_result"
    }
   ],
   "source": [
    "# the \"MS\" option specifies Monthly frequency by Start day this is done to aggrate data into monthly values\n",
    "skudata_interpolatedMS = skudata_interpolated.resample(\"MS\").sum()\n",
    "\n",
    "skudata_interpolatedMS.head()"
   ]
  },
  {
   "cell_type": "code",
   "execution_count": 16,
   "metadata": {},
   "outputs": [
    {
     "data": {
      "text/html": [
       "<div>\n",
       "<style scoped>\n",
       "    .dataframe tbody tr th:only-of-type {\n",
       "        vertical-align: middle;\n",
       "    }\n",
       "\n",
       "    .dataframe tbody tr th {\n",
       "        vertical-align: top;\n",
       "    }\n",
       "\n",
       "    .dataframe thead th {\n",
       "        text-align: right;\n",
       "    }\n",
       "</style>\n",
       "<table border=\"1\" class=\"dataframe\">\n",
       "  <thead>\n",
       "    <tr style=\"text-align: right;\">\n",
       "      <th></th>\n",
       "      <th>Account Factors::Profit Center</th>\n",
       "      <th>Promo ID</th>\n",
       "      <th>Pricing::Segment</th>\n",
       "      <th>Pricing::Engine</th>\n",
       "      <th>Promotion::SKU</th>\n",
       "      <th>Promotion::End Date Promo</th>\n",
       "      <th>Pricing::Street</th>\n",
       "      <th>Promotion::Promo_Value</th>\n",
       "      <th>Promotion::Promo Type</th>\n",
       "      <th>Promotion::Promo_Net Price Point</th>\n",
       "      <th>...</th>\n",
       "      <th>Sell Through Estimate POS</th>\n",
       "      <th>Sell Through Estimate Inv</th>\n",
       "      <th>Final Quantity</th>\n",
       "      <th>Sell Through Estimate</th>\n",
       "      <th>SOP_Period</th>\n",
       "      <th>SOP_Half</th>\n",
       "      <th>SOP_Quarter</th>\n",
       "      <th>Usage ID</th>\n",
       "      <th>Account Factors::SAP Account</th>\n",
       "      <th>Promotion::LevelType</th>\n",
       "    </tr>\n",
       "    <tr>\n",
       "      <th>Promotion::Start Date Promo</th>\n",
       "      <th></th>\n",
       "      <th></th>\n",
       "      <th></th>\n",
       "      <th></th>\n",
       "      <th></th>\n",
       "      <th></th>\n",
       "      <th></th>\n",
       "      <th></th>\n",
       "      <th></th>\n",
       "      <th></th>\n",
       "      <th></th>\n",
       "      <th></th>\n",
       "      <th></th>\n",
       "      <th></th>\n",
       "      <th></th>\n",
       "      <th></th>\n",
       "      <th></th>\n",
       "      <th></th>\n",
       "      <th></th>\n",
       "      <th></th>\n",
       "      <th></th>\n",
       "    </tr>\n",
       "  </thead>\n",
       "  <tbody>\n",
       "    <tr>\n",
       "      <th>2014-12-01</th>\n",
       "      <td>1010</td>\n",
       "      <td>6894</td>\n",
       "      <td>zzz</td>\n",
       "      <td>123</td>\n",
       "      <td>TP1</td>\n",
       "      <td>12/31/2014</td>\n",
       "      <td>459.99</td>\n",
       "      <td>7.0</td>\n",
       "      <td>2</td>\n",
       "      <td>452.99</td>\n",
       "      <td>...</td>\n",
       "      <td>371.000000</td>\n",
       "      <td>62.0</td>\n",
       "      <td>62.0</td>\n",
       "      <td>160.0</td>\n",
       "      <td>209</td>\n",
       "      <td>H2</td>\n",
       "      <td>Q3</td>\n",
       "      <td>23747.0</td>\n",
       "      <td>2</td>\n",
       "      <td>2</td>\n",
       "    </tr>\n",
       "    <tr>\n",
       "      <th>2015-01-01</th>\n",
       "      <td>1010</td>\n",
       "      <td>6895</td>\n",
       "      <td>zzz</td>\n",
       "      <td>123</td>\n",
       "      <td>TP1</td>\n",
       "      <td>1/31/2015</td>\n",
       "      <td>459.99</td>\n",
       "      <td>30.0</td>\n",
       "      <td>1</td>\n",
       "      <td>429.99</td>\n",
       "      <td>...</td>\n",
       "      <td>86.000000</td>\n",
       "      <td>423.0</td>\n",
       "      <td>423.0</td>\n",
       "      <td>160.0</td>\n",
       "      <td>210</td>\n",
       "      <td>H2</td>\n",
       "      <td>Q1</td>\n",
       "      <td>23751.0</td>\n",
       "      <td>2</td>\n",
       "      <td>2</td>\n",
       "    </tr>\n",
       "    <tr>\n",
       "      <th>2015-01-01</th>\n",
       "      <td>1010</td>\n",
       "      <td>6896</td>\n",
       "      <td>zzz</td>\n",
       "      <td>123</td>\n",
       "      <td>TP1</td>\n",
       "      <td>1/31/2015</td>\n",
       "      <td>459.99</td>\n",
       "      <td>5.0</td>\n",
       "      <td>2</td>\n",
       "      <td>424.99</td>\n",
       "      <td>...</td>\n",
       "      <td>20.000000</td>\n",
       "      <td>291.0</td>\n",
       "      <td>20.0</td>\n",
       "      <td>80.0</td>\n",
       "      <td>210</td>\n",
       "      <td>H2</td>\n",
       "      <td>Q1</td>\n",
       "      <td>23755.0</td>\n",
       "      <td>2</td>\n",
       "      <td>2</td>\n",
       "    </tr>\n",
       "    <tr>\n",
       "      <th>2015-02-01</th>\n",
       "      <td>1010</td>\n",
       "      <td>6897</td>\n",
       "      <td>zzz</td>\n",
       "      <td>123</td>\n",
       "      <td>TP1</td>\n",
       "      <td>2/28/2015</td>\n",
       "      <td>459.99</td>\n",
       "      <td>30.0</td>\n",
       "      <td>2</td>\n",
       "      <td>424.99</td>\n",
       "      <td>...</td>\n",
       "      <td>170.000000</td>\n",
       "      <td>258.0</td>\n",
       "      <td>258.0</td>\n",
       "      <td>160.0</td>\n",
       "      <td>211</td>\n",
       "      <td>H2</td>\n",
       "      <td>Q4</td>\n",
       "      <td>23756.0</td>\n",
       "      <td>2</td>\n",
       "      <td>2</td>\n",
       "    </tr>\n",
       "    <tr>\n",
       "      <th>2015-03-01</th>\n",
       "      <td>1010</td>\n",
       "      <td>6898</td>\n",
       "      <td>zzz</td>\n",
       "      <td>123</td>\n",
       "      <td>TP1</td>\n",
       "      <td>3/31/2015</td>\n",
       "      <td>459.99</td>\n",
       "      <td>30.0</td>\n",
       "      <td>2</td>\n",
       "      <td>424.99</td>\n",
       "      <td>...</td>\n",
       "      <td>73.428571</td>\n",
       "      <td>137.0</td>\n",
       "      <td>137.0</td>\n",
       "      <td>121.0</td>\n",
       "      <td>212</td>\n",
       "      <td>H2</td>\n",
       "      <td>Q4</td>\n",
       "      <td>23760.0</td>\n",
       "      <td>2</td>\n",
       "      <td>2</td>\n",
       "    </tr>\n",
       "  </tbody>\n",
       "</table>\n",
       "<p>5 rows × 28 columns</p>\n",
       "</div>"
      ],
      "text/plain": [
       "                             Account Factors::Profit Center  Promo ID  \\\n",
       "Promotion::Start Date Promo                                             \n",
       "2014-12-01                                             1010      6894   \n",
       "2015-01-01                                             1010      6895   \n",
       "2015-01-01                                             1010      6896   \n",
       "2015-02-01                                             1010      6897   \n",
       "2015-03-01                                             1010      6898   \n",
       "\n",
       "                            Pricing::Segment  Pricing::Engine Promotion::SKU  \\\n",
       "Promotion::Start Date Promo                                                    \n",
       "2014-12-01                               zzz              123            TP1   \n",
       "2015-01-01                               zzz              123            TP1   \n",
       "2015-01-01                               zzz              123            TP1   \n",
       "2015-02-01                               zzz              123            TP1   \n",
       "2015-03-01                               zzz              123            TP1   \n",
       "\n",
       "                            Promotion::End Date Promo  Pricing::Street  \\\n",
       "Promotion::Start Date Promo                                              \n",
       "2014-12-01                                 12/31/2014           459.99   \n",
       "2015-01-01                                  1/31/2015           459.99   \n",
       "2015-01-01                                  1/31/2015           459.99   \n",
       "2015-02-01                                  2/28/2015           459.99   \n",
       "2015-03-01                                  3/31/2015           459.99   \n",
       "\n",
       "                             Promotion::Promo_Value  Promotion::Promo Type  \\\n",
       "Promotion::Start Date Promo                                                  \n",
       "2014-12-01                                      7.0                      2   \n",
       "2015-01-01                                     30.0                      1   \n",
       "2015-01-01                                      5.0                      2   \n",
       "2015-02-01                                     30.0                      2   \n",
       "2015-03-01                                     30.0                      2   \n",
       "\n",
       "                             Promotion::Promo_Net Price Point  ...  \\\n",
       "Promotion::Start Date Promo                                    ...   \n",
       "2014-12-01                                             452.99  ...   \n",
       "2015-01-01                                             429.99  ...   \n",
       "2015-01-01                                             424.99  ...   \n",
       "2015-02-01                                             424.99  ...   \n",
       "2015-03-01                                             424.99  ...   \n",
       "\n",
       "                             Sell Through Estimate POS  \\\n",
       "Promotion::Start Date Promo                              \n",
       "2014-12-01                                  371.000000   \n",
       "2015-01-01                                   86.000000   \n",
       "2015-01-01                                   20.000000   \n",
       "2015-02-01                                  170.000000   \n",
       "2015-03-01                                   73.428571   \n",
       "\n",
       "                             Sell Through Estimate Inv  Final Quantity  \\\n",
       "Promotion::Start Date Promo                                              \n",
       "2014-12-01                                        62.0            62.0   \n",
       "2015-01-01                                       423.0           423.0   \n",
       "2015-01-01                                       291.0            20.0   \n",
       "2015-02-01                                       258.0           258.0   \n",
       "2015-03-01                                       137.0           137.0   \n",
       "\n",
       "                             Sell Through Estimate  SOP_Period  SOP_Half  \\\n",
       "Promotion::Start Date Promo                                                \n",
       "2014-12-01                                   160.0         209        H2   \n",
       "2015-01-01                                   160.0         210        H2   \n",
       "2015-01-01                                    80.0         210        H2   \n",
       "2015-02-01                                   160.0         211        H2   \n",
       "2015-03-01                                   121.0         212        H2   \n",
       "\n",
       "                             SOP_Quarter  Usage ID  \\\n",
       "Promotion::Start Date Promo                          \n",
       "2014-12-01                            Q3   23747.0   \n",
       "2015-01-01                            Q1   23751.0   \n",
       "2015-01-01                            Q1   23755.0   \n",
       "2015-02-01                            Q4   23756.0   \n",
       "2015-03-01                            Q4   23760.0   \n",
       "\n",
       "                             Account Factors::SAP Account  \\\n",
       "Promotion::Start Date Promo                                 \n",
       "2014-12-01                                              2   \n",
       "2015-01-01                                              2   \n",
       "2015-01-01                                              2   \n",
       "2015-02-01                                              2   \n",
       "2015-03-01                                              2   \n",
       "\n",
       "                             Promotion::LevelType  \n",
       "Promotion::Start Date Promo                        \n",
       "2014-12-01                                      2  \n",
       "2015-01-01                                      2  \n",
       "2015-01-01                                      2  \n",
       "2015-02-01                                      2  \n",
       "2015-03-01                                      2  \n",
       "\n",
       "[5 rows x 28 columns]"
      ]
     },
     "execution_count": 16,
     "metadata": {},
     "output_type": "execute_result"
    }
   ],
   "source": [
    "# Set as Index\n",
    "\n",
    "no_zero[\"Promotion::Start Date Promo\"] = pd.to_datetime(no_zero[\"Promotion::Start Date Promo\"])\n",
    "no_zero = no_zero.set_index(\"Promotion::Start Date Promo\")\n",
    "\n",
    "no_zero.head()"
   ]
  },
  {
   "cell_type": "code",
   "execution_count": 17,
   "metadata": {},
   "outputs": [
    {
     "name": "stderr",
     "output_type": "stream",
     "text": [
      "C:\\Users\\patri\\AppData\\Local\\Temp\\ipykernel_9952\\2550695425.py:3: FutureWarning: The default value of numeric_only in DataFrameGroupBy.sum is deprecated. In a future version, numeric_only will default to False. Either specify numeric_only or select only columns which should be valid for the function.\n",
      "  no_zeroMS = no_zero.resample(\"MS\").sum()\n"
     ]
    },
    {
     "data": {
      "text/html": [
       "<div>\n",
       "<style scoped>\n",
       "    .dataframe tbody tr th:only-of-type {\n",
       "        vertical-align: middle;\n",
       "    }\n",
       "\n",
       "    .dataframe tbody tr th {\n",
       "        vertical-align: top;\n",
       "    }\n",
       "\n",
       "    .dataframe thead th {\n",
       "        text-align: right;\n",
       "    }\n",
       "</style>\n",
       "<table border=\"1\" class=\"dataframe\">\n",
       "  <thead>\n",
       "    <tr style=\"text-align: right;\">\n",
       "      <th></th>\n",
       "      <th>Account Factors::Profit Center</th>\n",
       "      <th>Promo ID</th>\n",
       "      <th>Pricing::Engine</th>\n",
       "      <th>Pricing::Street</th>\n",
       "      <th>Promotion::Promo_Value</th>\n",
       "      <th>Promotion::Promo Type</th>\n",
       "      <th>Promotion::Promo_Net Price Point</th>\n",
       "      <th>Exp_Revenue Est</th>\n",
       "      <th>Exp_Billing Profit</th>\n",
       "      <th>Exp_Billing Profit Supply</th>\n",
       "      <th>...</th>\n",
       "      <th>Account</th>\n",
       "      <th>Sell Through Estimate Adj</th>\n",
       "      <th>Sell Through Estimate POS</th>\n",
       "      <th>Sell Through Estimate Inv</th>\n",
       "      <th>Final Quantity</th>\n",
       "      <th>Sell Through Estimate</th>\n",
       "      <th>SOP_Period</th>\n",
       "      <th>Usage ID</th>\n",
       "      <th>Account Factors::SAP Account</th>\n",
       "      <th>Promotion::LevelType</th>\n",
       "    </tr>\n",
       "    <tr>\n",
       "      <th>Promotion::Start Date Promo</th>\n",
       "      <th></th>\n",
       "      <th></th>\n",
       "      <th></th>\n",
       "      <th></th>\n",
       "      <th></th>\n",
       "      <th></th>\n",
       "      <th></th>\n",
       "      <th></th>\n",
       "      <th></th>\n",
       "      <th></th>\n",
       "      <th></th>\n",
       "      <th></th>\n",
       "      <th></th>\n",
       "      <th></th>\n",
       "      <th></th>\n",
       "      <th></th>\n",
       "      <th></th>\n",
       "      <th></th>\n",
       "      <th></th>\n",
       "      <th></th>\n",
       "      <th></th>\n",
       "    </tr>\n",
       "  </thead>\n",
       "  <tbody>\n",
       "    <tr>\n",
       "      <th>2014-11-01</th>\n",
       "      <td>3030</td>\n",
       "      <td>22128</td>\n",
       "      <td>369</td>\n",
       "      <td>1379.97</td>\n",
       "      <td>90.0</td>\n",
       "      <td>6</td>\n",
       "      <td>1289.97</td>\n",
       "      <td>20363.206068</td>\n",
       "      <td>3729.680586</td>\n",
       "      <td>21971.930194</td>\n",
       "      <td>...</td>\n",
       "      <td>4</td>\n",
       "      <td>360.0</td>\n",
       "      <td>19.692308</td>\n",
       "      <td>532.500000</td>\n",
       "      <td>232.00</td>\n",
       "      <td>360.0</td>\n",
       "      <td>624</td>\n",
       "      <td>88413.0</td>\n",
       "      <td>4</td>\n",
       "      <td>4</td>\n",
       "    </tr>\n",
       "    <tr>\n",
       "      <th>2014-12-01</th>\n",
       "      <td>3030</td>\n",
       "      <td>20682</td>\n",
       "      <td>369</td>\n",
       "      <td>1379.97</td>\n",
       "      <td>21.0</td>\n",
       "      <td>6</td>\n",
       "      <td>1358.97</td>\n",
       "      <td>28847.875258</td>\n",
       "      <td>5283.714163</td>\n",
       "      <td>31126.901108</td>\n",
       "      <td>...</td>\n",
       "      <td>5</td>\n",
       "      <td>560.0</td>\n",
       "      <td>383.769231</td>\n",
       "      <td>562.571429</td>\n",
       "      <td>460.00</td>\n",
       "      <td>835.0</td>\n",
       "      <td>627</td>\n",
       "      <td>83015.0</td>\n",
       "      <td>5</td>\n",
       "      <td>5</td>\n",
       "    </tr>\n",
       "    <tr>\n",
       "      <th>2015-01-01</th>\n",
       "      <td>7070</td>\n",
       "      <td>48267</td>\n",
       "      <td>861</td>\n",
       "      <td>3219.93</td>\n",
       "      <td>160.0</td>\n",
       "      <td>9</td>\n",
       "      <td>2999.93</td>\n",
       "      <td>62786.552038</td>\n",
       "      <td>11499.848473</td>\n",
       "      <td>67746.784758</td>\n",
       "      <td>...</td>\n",
       "      <td>11</td>\n",
       "      <td>2142.5</td>\n",
       "      <td>189.329670</td>\n",
       "      <td>2324.150000</td>\n",
       "      <td>1996.25</td>\n",
       "      <td>2142.5</td>\n",
       "      <td>1470</td>\n",
       "      <td>195716.0</td>\n",
       "      <td>11</td>\n",
       "      <td>11</td>\n",
       "    </tr>\n",
       "    <tr>\n",
       "      <th>2015-02-01</th>\n",
       "      <td>8080</td>\n",
       "      <td>55811</td>\n",
       "      <td>984</td>\n",
       "      <td>3679.92</td>\n",
       "      <td>215.0</td>\n",
       "      <td>16</td>\n",
       "      <td>3399.92</td>\n",
       "      <td>37332.544453</td>\n",
       "      <td>6837.747740</td>\n",
       "      <td>40281.872019</td>\n",
       "      <td>...</td>\n",
       "      <td>13</td>\n",
       "      <td>1845.0</td>\n",
       "      <td>234.076923</td>\n",
       "      <td>2407.535714</td>\n",
       "      <td>2048.45</td>\n",
       "      <td>2275.0</td>\n",
       "      <td>1688</td>\n",
       "      <td>238288.0</td>\n",
       "      <td>13</td>\n",
       "      <td>13</td>\n",
       "    </tr>\n",
       "    <tr>\n",
       "      <th>2015-03-01</th>\n",
       "      <td>7070</td>\n",
       "      <td>49001</td>\n",
       "      <td>861</td>\n",
       "      <td>3219.93</td>\n",
       "      <td>185.0</td>\n",
       "      <td>14</td>\n",
       "      <td>2974.93</td>\n",
       "      <td>29470.084337</td>\n",
       "      <td>5397.676626</td>\n",
       "      <td>31798.265641</td>\n",
       "      <td>...</td>\n",
       "      <td>12</td>\n",
       "      <td>1216.0</td>\n",
       "      <td>132.197802</td>\n",
       "      <td>1875.250000</td>\n",
       "      <td>1494.80</td>\n",
       "      <td>1986.0</td>\n",
       "      <td>1484</td>\n",
       "      <td>208266.0</td>\n",
       "      <td>12</td>\n",
       "      <td>12</td>\n",
       "    </tr>\n",
       "  </tbody>\n",
       "</table>\n",
       "<p>5 rows × 23 columns</p>\n",
       "</div>"
      ],
      "text/plain": [
       "                             Account Factors::Profit Center  Promo ID  \\\n",
       "Promotion::Start Date Promo                                             \n",
       "2014-11-01                                             3030     22128   \n",
       "2014-12-01                                             3030     20682   \n",
       "2015-01-01                                             7070     48267   \n",
       "2015-02-01                                             8080     55811   \n",
       "2015-03-01                                             7070     49001   \n",
       "\n",
       "                             Pricing::Engine  Pricing::Street  \\\n",
       "Promotion::Start Date Promo                                     \n",
       "2014-11-01                               369          1379.97   \n",
       "2014-12-01                               369          1379.97   \n",
       "2015-01-01                               861          3219.93   \n",
       "2015-02-01                               984          3679.92   \n",
       "2015-03-01                               861          3219.93   \n",
       "\n",
       "                             Promotion::Promo_Value  Promotion::Promo Type  \\\n",
       "Promotion::Start Date Promo                                                  \n",
       "2014-11-01                                     90.0                      6   \n",
       "2014-12-01                                     21.0                      6   \n",
       "2015-01-01                                    160.0                      9   \n",
       "2015-02-01                                    215.0                     16   \n",
       "2015-03-01                                    185.0                     14   \n",
       "\n",
       "                             Promotion::Promo_Net Price Point  \\\n",
       "Promotion::Start Date Promo                                     \n",
       "2014-11-01                                            1289.97   \n",
       "2014-12-01                                            1358.97   \n",
       "2015-01-01                                            2999.93   \n",
       "2015-02-01                                            3399.92   \n",
       "2015-03-01                                            2974.93   \n",
       "\n",
       "                             Exp_Revenue Est  Exp_Billing Profit  \\\n",
       "Promotion::Start Date Promo                                        \n",
       "2014-11-01                      20363.206068         3729.680586   \n",
       "2014-12-01                      28847.875258         5283.714163   \n",
       "2015-01-01                      62786.552038        11499.848473   \n",
       "2015-02-01                      37332.544453         6837.747740   \n",
       "2015-03-01                      29470.084337         5397.676626   \n",
       "\n",
       "                             Exp_Billing Profit Supply  ...  Account  \\\n",
       "Promotion::Start Date Promo                             ...            \n",
       "2014-11-01                                21971.930194  ...        4   \n",
       "2014-12-01                                31126.901108  ...        5   \n",
       "2015-01-01                                67746.784758  ...       11   \n",
       "2015-02-01                                40281.872019  ...       13   \n",
       "2015-03-01                                31798.265641  ...       12   \n",
       "\n",
       "                             Sell Through Estimate Adj  \\\n",
       "Promotion::Start Date Promo                              \n",
       "2014-11-01                                       360.0   \n",
       "2014-12-01                                       560.0   \n",
       "2015-01-01                                      2142.5   \n",
       "2015-02-01                                      1845.0   \n",
       "2015-03-01                                      1216.0   \n",
       "\n",
       "                             Sell Through Estimate POS  \\\n",
       "Promotion::Start Date Promo                              \n",
       "2014-11-01                                   19.692308   \n",
       "2014-12-01                                  383.769231   \n",
       "2015-01-01                                  189.329670   \n",
       "2015-02-01                                  234.076923   \n",
       "2015-03-01                                  132.197802   \n",
       "\n",
       "                             Sell Through Estimate Inv  Final Quantity  \\\n",
       "Promotion::Start Date Promo                                              \n",
       "2014-11-01                                  532.500000          232.00   \n",
       "2014-12-01                                  562.571429          460.00   \n",
       "2015-01-01                                 2324.150000         1996.25   \n",
       "2015-02-01                                 2407.535714         2048.45   \n",
       "2015-03-01                                 1875.250000         1494.80   \n",
       "\n",
       "                             Sell Through Estimate  SOP_Period  Usage ID  \\\n",
       "Promotion::Start Date Promo                                                \n",
       "2014-11-01                                   360.0         624   88413.0   \n",
       "2014-12-01                                   835.0         627   83015.0   \n",
       "2015-01-01                                  2142.5        1470  195716.0   \n",
       "2015-02-01                                  2275.0        1688  238288.0   \n",
       "2015-03-01                                  1986.0        1484  208266.0   \n",
       "\n",
       "                             Account Factors::SAP Account  \\\n",
       "Promotion::Start Date Promo                                 \n",
       "2014-11-01                                              4   \n",
       "2014-12-01                                              5   \n",
       "2015-01-01                                             11   \n",
       "2015-02-01                                             13   \n",
       "2015-03-01                                             12   \n",
       "\n",
       "                             Promotion::LevelType  \n",
       "Promotion::Start Date Promo                        \n",
       "2014-11-01                                      4  \n",
       "2014-12-01                                      5  \n",
       "2015-01-01                                     11  \n",
       "2015-02-01                                     13  \n",
       "2015-03-01                                     12  \n",
       "\n",
       "[5 rows x 23 columns]"
      ]
     },
     "execution_count": 17,
     "metadata": {},
     "output_type": "execute_result"
    }
   ],
   "source": [
    "# the \"MS\" option specifies Monthly frequency by Start day this is done to aggrate data into monthly values\n",
    "\n",
    "no_zeroMS = no_zero.resample(\"MS\").sum()\n",
    "\n",
    "no_zeroMS.head()"
   ]
  },
  {
   "cell_type": "code",
   "execution_count": 18,
   "metadata": {},
   "outputs": [
    {
     "data": {
      "text/plain": [
       "<AxesSubplot: xlabel='Promotion::Start Date Promo'>"
      ]
     },
     "execution_count": 18,
     "metadata": {},
     "output_type": "execute_result"
    },
    {
     "data": {
      "image/png": "[encoded data removed]",
      "text/plain": [
       "<Figure size 1200x800 with 1 Axes>"
      ]
     },
     "metadata": {},
     "output_type": "display_data"
    }
   ],
   "source": [
    "no_zeroMS['Final Quantity'].plot(figsize=(12,8))"
   ]
  },
  {
   "attachments": {},
   "cell_type": "markdown",
   "metadata": {},
   "source": [
    "# Check for Seaonal decomposition"
   ]
  },
  {
   "cell_type": "code",
   "execution_count": 19,
   "metadata": {},
   "outputs": [
    {
     "data": {
      "image/png": "[encoded data removed]",
      "text/plain": [
       "<Figure size 640x480 with 4 Axes>"
      ]
     },
     "metadata": {},
     "output_type": "display_data"
    }
   ],
   "source": [
    "result=seasonal_decompose(no_zeroMS['Final Quantity'],model='add')\n",
    "result.plot();"
   ]
  },
  {
   "attachments": {},
   "cell_type": "markdown",
   "metadata": {},
   "source": [
    "### Clearly a strong pattern of seasonalit, so lets use a SARIMA model."
   ]
  },
  {
   "cell_type": "code",
   "execution_count": 20,
   "metadata": {},
   "outputs": [],
   "source": [
    "# plotting\n",
    "import plotly.express as px\n",
    "from plotly.subplots import make_subplots\n",
    "import plotly.graph_objs as go\n",
    "import matplotlib.pyplot as plt\n",
    "import seaborn as sns\n",
    "\n",
    "# stats\n",
    "from statsmodels.api import tsa # time series analysis\n",
    "import statsmodels.api as sm\n",
    "import plotly.express as px"
   ]
  },
  {
   "cell_type": "code",
   "execution_count": 21,
   "metadata": {},
   "outputs": [
    {
     "data": {
      "application/vnd.plotly.v1+json": {
       "config": {
        "plotlyServerURL": "https://plot.ly"
       },
       "data": [
        {
         "hovertemplate": "Promotion::Start Date Promo=%{x}<br>Final Quantity=%{y}<extra></extra>",
         "legendgroup": "",
         "line": {
          "color": "#636efa",
          "dash": "solid"
         },
         "mode": "lines",
         "name": "",
         "orientation": "v",
         "showlegend": false,
         "type": "scatter",
         "x": [
          "2014-11-01T00:00:00",
          "2014-12-01T00:00:00",
          "2015-01-01T00:00:00",
          "2015-02-01T00:00:00",
          "2015-03-01T00:00:00",
          "2015-04-01T00:00:00",
          "2015-05-01T00:00:00",
          "2015-06-01T00:00:00",
          "2015-07-01T00:00:00",
          "2015-08-01T00:00:00",
          "2015-09-01T00:00:00",
          "2015-10-01T00:00:00",
          "2015-11-01T00:00:00",
          "2015-12-01T00:00:00",
          "2016-01-01T00:00:00",
          "2016-02-01T00:00:00",
          "2016-03-01T00:00:00",
          "2016-04-01T00:00:00",
          "2016-05-01T00:00:00",
          "2016-06-01T00:00:00",
          "2016-07-01T00:00:00",
          "2016-08-01T00:00:00",
          "2016-09-01T00:00:00",
          "2016-10-01T00:00:00",
          "2016-11-01T00:00:00",
          "2016-12-01T00:00:00",
          "2017-01-01T00:00:00",
          "2017-02-01T00:00:00",
          "2017-03-01T00:00:00",
          "2017-04-01T00:00:00",
          "2017-05-01T00:00:00",
          "2017-06-01T00:00:00",
          "2017-07-01T00:00:00",
          "2017-08-01T00:00:00",
          "2017-09-01T00:00:00",
          "2017-10-01T00:00:00",
          "2017-11-01T00:00:00",
          "2017-12-01T00:00:00",
          "2018-01-01T00:00:00",
          "2018-02-01T00:00:00",
          "2018-03-01T00:00:00",
          "2018-04-01T00:00:00",
          "2018-05-01T00:00:00",
          "2018-06-01T00:00:00",
          "2018-07-01T00:00:00",
          "2018-08-01T00:00:00",
          "2018-09-01T00:00:00",
          "2018-10-01T00:00:00",
          "2018-11-01T00:00:00",
          "2018-12-01T00:00:00",
          "2019-01-01T00:00:00",
          "2019-02-01T00:00:00",
          "2019-03-01T00:00:00",
          "2019-04-01T00:00:00",
          "2019-05-01T00:00:00",
          "2019-06-01T00:00:00",
          "2019-07-01T00:00:00",
          "2019-08-01T00:00:00",
          "2019-09-01T00:00:00",
          "2019-10-01T00:00:00",
          "2019-11-01T00:00:00",
          "2019-12-01T00:00:00",
          "2020-01-01T00:00:00",
          "2020-02-01T00:00:00",
          "2020-03-01T00:00:00",
          "2020-04-01T00:00:00",
          "2020-05-01T00:00:00",
          "2020-06-01T00:00:00",
          "2020-07-01T00:00:00",
          "2020-08-01T00:00:00",
          "2020-09-01T00:00:00",
          "2020-10-01T00:00:00",
          "2020-11-01T00:00:00",
          "2020-12-01T00:00:00",
          "2021-01-01T00:00:00",
          "2021-02-01T00:00:00",
          "2021-03-01T00:00:00",
          "2021-04-01T00:00:00",
          "2021-05-01T00:00:00",
          "2021-06-01T00:00:00",
          "2021-07-01T00:00:00",
          "2021-08-01T00:00:00",
          "2021-09-01T00:00:00",
          "2021-10-01T00:00:00",
          "2021-11-01T00:00:00",
          "2021-12-01T00:00:00",
          "2022-01-01T00:00:00",
          "2022-02-01T00:00:00",
          "2022-03-01T00:00:00"
         ],
         "xaxis": "x",
         "y": [
          232,
          460,
          1996.25,
          2048.45,
          1494.8000000000002,
          410.26739926739924,
          897.6923076923077,
          864.9120879120878,
          1331.0842490842492,
          2205.96336996337,
          897.8615384615384,
          2062.4333333333334,
          1722.9285714285713,
          2718.8571428571427,
          962.8,
          1554.2,
          501,
          392.33333333333337,
          296,
          575.6666666666666,
          815.952380952381,
          839.3333333333334,
          700.7142857142858,
          956,
          766.9999999999999,
          1299.5,
          626.5,
          1179,
          746,
          1509.5,
          493.2,
          764.8,
          459,
          1221,
          717,
          1060,
          994,
          937,
          1286.142857142857,
          1045.857142857143,
          1763.357142857143,
          531.1428571428571,
          456,
          1077.25,
          401.375,
          1888.875,
          1056,
          1216,
          662.6,
          1229.2,
          1548.9,
          741.8,
          398,
          995.5,
          617,
          1084.111111111111,
          933.3888888888889,
          1780.1666666666667,
          1365.2857142857142,
          1423.1904761904761,
          1039,
          1870.857142857143,
          1021,
          1439,
          565,
          1023.25,
          1031.25,
          762,
          1064.3,
          1038.7,
          1265,
          1275,
          1189,
          1157,
          21,
          2074.5,
          724.7142857142858,
          420,
          467.2857142857143,
          1032,
          1135.5,
          2006,
          1309,
          1257,
          820,
          1235,
          1661,
          361,
          221
         ],
         "yaxis": "y"
        }
       ],
       "layout": {
        "legend": {
         "title": {
          "text": ""
         },
         "tracegroupgap": 0
        },
        "margin": {
         "t": 60
        },
        "template": {
         "data": {
          "bar": [
           {
            "error_x": {
             "color": "#2a3f5f"
            },
            "error_y": {
             "color": "#2a3f5f"
            },
            "marker": {
             "line": {
              "color": "#E5ECF6",
              "width": 0.5
             }
            },
            "type": "bar"
           }
          ],
          "barpolar": [
           {
            "marker": {
             "line": {
              "color": "#E5ECF6",
              "width": 0.5
             }
            },
            "type": "barpolar"
           }
          ],
          "carpet": [
           {
            "aaxis": {
             "endlinecolor": "#2a3f5f",
             "gridcolor": "white",
             "linecolor": "white",
             "minorgridcolor": "white",
             "startlinecolor": "#2a3f5f"
            },
            "baxis": {
             "endlinecolor": "#2a3f5f",
             "gridcolor": "white",
             "linecolor": "white",
             "minorgridcolor": "white",
             "startlinecolor": "#2a3f5f"
            },
            "type": "carpet"
           }
          ],
          "choropleth": [
           {
            "colorbar": {
             "outlinewidth": 0,
             "ticks": ""
            },
            "type": "choropleth"
           }
          ],
          "contour": [
           {
            "colorbar": {
             "outlinewidth": 0,
             "ticks": ""
            },
            "colorscale": [
             [
              0,
              "#0d0887"
             ],
             [
              0.1111111111111111,
              "#46039f"
             ],
             [
              0.2222222222222222,
              "#7201a8"
             ],
             [
              0.3333333333333333,
              "#9c179e"
             ],
             [
              0.4444444444444444,
              "#bd3786"
             ],
             [
              0.5555555555555556,
              "#d8576b"
             ],
             [
              0.6666666666666666,
              "#ed7953"
             ],
             [
              0.7777777777777778,
              "#fb9f3a"
             ],
             [
              0.8888888888888888,
              "#fdca26"
             ],
             [
              1,
              "#f0f921"
             ]
            ],
            "type": "contour"
           }
          ],
          "contourcarpet": [
           {
            "colorbar": {
             "outlinewidth": 0,
             "ticks": ""
            },
            "type": "contourcarpet"
           }
          ],
          "heatmap": [
           {
            "colorbar": {
             "outlinewidth": 0,
             "ticks": ""
            },
            "colorscale": [
             [
              0,
              "#0d0887"
             ],
             [
              0.1111111111111111,
              "#46039f"
             ],
             [
              0.2222222222222222,
              "#7201a8"
             ],
             [
              0.3333333333333333,
              "#9c179e"
             ],
             [
              0.4444444444444444,
              "#bd3786"
             ],
             [
              0.5555555555555556,
              "#d8576b"
             ],
             [
              0.6666666666666666,
              "#ed7953"
             ],
             [
              0.7777777777777778,
              "#fb9f3a"
             ],
             [
              0.8888888888888888,
              "#fdca26"
             ],
             [
              1,
              "#f0f921"
             ]
            ],
            "type": "heatmap"
           }
          ],
          "heatmapgl": [
           {
            "colorbar": {
             "outlinewidth": 0,
             "ticks": ""
            },
            "colorscale": [
             [
              0,
              "#0d0887"
             ],
             [
              0.1111111111111111,
              "#46039f"
             ],
             [
              0.2222222222222222,
              "#7201a8"
             ],
             [
              0.3333333333333333,
              "#9c179e"
             ],
             [
              0.4444444444444444,
              "#bd3786"
             ],
             [
              0.5555555555555556,
              "#d8576b"
             ],
             [
              0.6666666666666666,
              "#ed7953"
             ],
             [
              0.7777777777777778,
              "#fb9f3a"
             ],
             [
              0.8888888888888888,
              "#fdca26"
             ],
             [
              1,
              "#f0f921"
             ]
            ],
            "type": "heatmapgl"
           }
          ],
          "histogram": [
           {
            "marker": {
             "colorbar": {
              "outlinewidth": 0,
              "ticks": ""
             }
            },
            "type": "histogram"
           }
          ],
          "histogram2d": [
           {
            "colorbar": {
             "outlinewidth": 0,
             "ticks": ""
            },
            "colorscale": [
             [
              0,
              "#0d0887"
             ],
             [
              0.1111111111111111,
              "#46039f"
             ],
             [
              0.2222222222222222,
              "#7201a8"
             ],
             [
              0.3333333333333333,
              "#9c179e"
             ],
             [
              0.4444444444444444,
              "#bd3786"
             ],
             [
              0.5555555555555556,
              "#d8576b"
             ],
             [
              0.6666666666666666,
              "#ed7953"
             ],
             [
              0.7777777777777778,
              "#fb9f3a"
             ],
             [
              0.8888888888888888,
              "#fdca26"
             ],
             [
              1,
              "#f0f921"
             ]
            ],
            "type": "histogram2d"
           }
          ],
          "histogram2dcontour": [
           {
            "colorbar": {
             "outlinewidth": 0,
             "ticks": ""
            },
            "colorscale": [
             [
              0,
              "#0d0887"
             ],
             [
              0.1111111111111111,
              "#46039f"
             ],
             [
              0.2222222222222222,
              "#7201a8"
             ],
             [
              0.3333333333333333,
              "#9c179e"
             ],
             [
              0.4444444444444444,
              "#bd3786"
             ],
             [
              0.5555555555555556,
              "#d8576b"
             ],
             [
              0.6666666666666666,
              "#ed7953"
             ],
             [
              0.7777777777777778,
              "#fb9f3a"
             ],
             [
              0.8888888888888888,
              "#fdca26"
             ],
             [
              1,
              "#f0f921"
             ]
            ],
            "type": "histogram2dcontour"
           }
          ],
          "mesh3d": [
           {
            "colorbar": {
             "outlinewidth": 0,
             "ticks": ""
            },
            "type": "mesh3d"
           }
          ],
          "parcoords": [
           {
            "line": {
             "colorbar": {
              "outlinewidth": 0,
              "ticks": ""
             }
            },
            "type": "parcoords"
           }
          ],
          "pie": [
           {
            "automargin": true,
            "type": "pie"
           }
          ],
          "scatter": [
           {
            "marker": {
             "colorbar": {
              "outlinewidth": 0,
              "ticks": ""
             }
            },
            "type": "scatter"
           }
          ],
          "scatter3d": [
           {
            "line": {
             "colorbar": {
              "outlinewidth": 0,
              "ticks": ""
             }
            },
            "marker": {
             "colorbar": {
              "outlinewidth": 0,
              "ticks": ""
             }
            },
            "type": "scatter3d"
           }
          ],
          "scattercarpet": [
           {
            "marker": {
             "colorbar": {
              "outlinewidth": 0,
              "ticks": ""
             }
            },
            "type": "scattercarpet"
           }
          ],
          "scattergeo": [
           {
            "marker": {
             "colorbar": {
              "outlinewidth": 0,
              "ticks": ""
             }
            },
            "type": "scattergeo"
           }
          ],
          "scattergl": [
           {
            "marker": {
             "colorbar": {
              "outlinewidth": 0,
              "ticks": ""
             }
            },
            "type": "scattergl"
           }
          ],
          "scattermapbox": [
           {
            "marker": {
             "colorbar": {
              "outlinewidth": 0,
              "ticks": ""
             }
            },
            "type": "scattermapbox"
           }
          ],
          "scatterpolar": [
           {
            "marker": {
             "colorbar": {
              "outlinewidth": 0,
              "ticks": ""
             }
            },
            "type": "scatterpolar"
           }
          ],
          "scatterpolargl": [
           {
            "marker": {
             "colorbar": {
              "outlinewidth": 0,
              "ticks": ""
             }
            },
            "type": "scatterpolargl"
           }
          ],
          "scatterternary": [
           {
            "marker": {
             "colorbar": {
              "outlinewidth": 0,
              "ticks": ""
             }
            },
            "type": "scatterternary"
           }
          ],
          "surface": [
           {
            "colorbar": {
             "outlinewidth": 0,
             "ticks": ""
            },
            "colorscale": [
             [
              0,
              "#0d0887"
             ],
             [
              0.1111111111111111,
              "#46039f"
             ],
             [
              0.2222222222222222,
              "#7201a8"
             ],
             [
              0.3333333333333333,
              "#9c179e"
             ],
             [
              0.4444444444444444,
              "#bd3786"
             ],
             [
              0.5555555555555556,
              "#d8576b"
             ],
             [
              0.6666666666666666,
              "#ed7953"
             ],
             [
              0.7777777777777778,
              "#fb9f3a"
             ],
             [
              0.8888888888888888,
              "#fdca26"
             ],
             [
              1,
              "#f0f921"
             ]
            ],
            "type": "surface"
           }
          ],
          "table": [
           {
            "cells": {
             "fill": {
              "color": "#EBF0F8"
             },
             "line": {
              "color": "white"
             }
            },
            "header": {
             "fill": {
              "color": "#C8D4E3"
             },
             "line": {
              "color": "white"
             }
            },
            "type": "table"
           }
          ]
         },
         "layout": {
          "annotationdefaults": {
           "arrowcolor": "#2a3f5f",
           "arrowhead": 0,
           "arrowwidth": 1
          },
          "coloraxis": {
           "colorbar": {
            "outlinewidth": 0,
            "ticks": ""
           }
          },
          "colorscale": {
           "diverging": [
            [
             0,
             "#8e0152"
            ],
            [
             0.1,
             "#c51b7d"
            ],
            [
             0.2,
             "#de77ae"
            ],
            [
             0.3,
             "#f1b6da"
            ],
            [
             0.4,
             "#fde0ef"
            ],
            [
             0.5,
             "#f7f7f7"
            ],
            [
             0.6,
             "#e6f5d0"
            ],
            [
             0.7,
             "#b8e186"
            ],
            [
             0.8,
             "#7fbc41"
            ],
            [
             0.9,
             "#4d9221"
            ],
            [
             1,
             "#276419"
            ]
           ],
           "sequential": [
            [
             0,
             "#0d0887"
            ],
            [
             0.1111111111111111,
             "#46039f"
            ],
            [
             0.2222222222222222,
             "#7201a8"
            ],
            [
             0.3333333333333333,
             "#9c179e"
            ],
            [
             0.4444444444444444,
             "#bd3786"
            ],
            [
             0.5555555555555556,
             "#d8576b"
            ],
            [
             0.6666666666666666,
             "#ed7953"
            ],
            [
             0.7777777777777778,
             "#fb9f3a"
            ],
            [
             0.8888888888888888,
             "#fdca26"
            ],
            [
             1,
             "#f0f921"
            ]
           ],
           "sequentialminus": [
            [
             0,
             "#0d0887"
            ],
            [
             0.1111111111111111,
             "#46039f"
            ],
            [
             0.2222222222222222,
             "#7201a8"
            ],
            [
             0.3333333333333333,
             "#9c179e"
            ],
            [
             0.4444444444444444,
             "#bd3786"
            ],
            [
             0.5555555555555556,
             "#d8576b"
            ],
            [
             0.6666666666666666,
             "#ed7953"
            ],
            [
             0.7777777777777778,
             "#fb9f3a"
            ],
            [
             0.8888888888888888,
             "#fdca26"
            ],
            [
             1,
             "#f0f921"
            ]
           ]
          },
          "colorway": [
           "#636efa",
           "#EF553B",
           "#00cc96",
           "#ab63fa",
           "#FFA15A",
           "#19d3f3",
           "#FF6692",
           "#B6E880",
           "#FF97FF",
           "#FECB52"
          ],
          "font": {
           "color": "#2a3f5f"
          },
          "geo": {
           "bgcolor": "white",
           "lakecolor": "white",
           "landcolor": "#E5ECF6",
           "showlakes": true,
           "showland": true,
           "subunitcolor": "white"
          },
          "hoverlabel": {
           "align": "left"
          },
          "hovermode": "closest",
          "mapbox": {
           "style": "light"
          },
          "paper_bgcolor": "white",
          "plot_bgcolor": "#E5ECF6",
          "polar": {
           "angularaxis": {
            "gridcolor": "white",
            "linecolor": "white",
            "ticks": ""
           },
           "bgcolor": "#E5ECF6",
           "radialaxis": {
            "gridcolor": "white",
            "linecolor": "white",
            "ticks": ""
           }
          },
          "scene": {
           "xaxis": {
            "backgroundcolor": "#E5ECF6",
            "gridcolor": "white",
            "gridwidth": 2,
            "linecolor": "white",
            "showbackground": true,
            "ticks": "",
            "zerolinecolor": "white"
           },
           "yaxis": {
            "backgroundcolor": "#E5ECF6",
            "gridcolor": "white",
            "gridwidth": 2,
            "linecolor": "white",
            "showbackground": true,
            "ticks": "",
            "zerolinecolor": "white"
           },
           "zaxis": {
            "backgroundcolor": "#E5ECF6",
            "gridcolor": "white",
            "gridwidth": 2,
            "linecolor": "white",
            "showbackground": true,
            "ticks": "",
            "zerolinecolor": "white"
           }
          },
          "shapedefaults": {
           "line": {
            "color": "#2a3f5f"
           }
          },
          "ternary": {
           "aaxis": {
            "gridcolor": "white",
            "linecolor": "white",
            "ticks": ""
           },
           "baxis": {
            "gridcolor": "white",
            "linecolor": "white",
            "ticks": ""
           },
           "bgcolor": "#E5ECF6",
           "caxis": {
            "gridcolor": "white",
            "linecolor": "white",
            "ticks": ""
           }
          },
          "title": {
           "x": 0.05
          },
          "xaxis": {
           "automargin": true,
           "gridcolor": "white",
           "linecolor": "white",
           "ticks": "",
           "title": {
            "standoff": 15
           },
           "zerolinecolor": "white",
           "zerolinewidth": 2
          },
          "yaxis": {
           "automargin": true,
           "gridcolor": "white",
           "linecolor": "white",
           "ticks": "",
           "title": {
            "standoff": 15
           },
           "zerolinecolor": "white",
           "zerolinewidth": 2
          }
         }
        },
        "title": {
         "text": "Final Qty 2015 to 2022"
        },
        "xaxis": {
         "anchor": "y",
         "domain": [
          0,
          1
         ],
         "title": {
          "text": "Year"
         }
        },
        "yaxis": {
         "anchor": "x",
         "domain": [
          0,
          1
         ],
         "title": {
          "text": "Final Qty"
         }
        }
       }
      }
     },
     "metadata": {},
     "output_type": "display_data"
    }
   ],
   "source": [
    "fig = px.line(no_zeroMS, x=no_zeroMS.index, y=\"Final Quantity\",)\n",
    "fig.update_layout(\n",
    "    yaxis_title=\"Final Qty\", \n",
    "    xaxis_title=\"Year\",\n",
    "    legend_title=\"\", \n",
    "    title=\"Final Qty 2015 to 2022\"\n",
    ")\n",
    "fig.show()"
   ]
  },
  {
   "attachments": {},
   "cell_type": "markdown",
   "metadata": {},
   "source": [
    "### Run auto_arima to get the fit for SARIMA in this case it finds it to be(3,0,0)"
   ]
  },
  {
   "cell_type": "code",
   "execution_count": 22,
   "metadata": {},
   "outputs": [
    {
     "data": {
      "text/html": [
       "<table class=\"simpletable\">\n",
       "<caption>SARIMAX Results</caption>\n",
       "<tr>\n",
       "  <th>Dep. Variable:</th>           <td>y</td>        <th>  No. Observations:  </th>    <td>96</td>   \n",
       "</tr>\n",
       "<tr>\n",
       "  <th>Model:</th>           <td>SARIMAX(3, 0, 0)</td> <th>  Log Likelihood     </th> <td>-735.145</td>\n",
       "</tr>\n",
       "<tr>\n",
       "  <th>Date:</th>            <td>Sun, 25 Jun 2023</td> <th>  AIC                </th> <td>1480.289</td>\n",
       "</tr>\n",
       "<tr>\n",
       "  <th>Time:</th>                <td>07:08:29</td>     <th>  BIC                </th> <td>1493.111</td>\n",
       "</tr>\n",
       "<tr>\n",
       "  <th>Sample:</th>             <td>11-01-2014</td>    <th>  HQIC               </th> <td>1485.472</td>\n",
       "</tr>\n",
       "<tr>\n",
       "  <th></th>                   <td>- 10-01-2022</td>   <th>                     </th>     <td> </td>   \n",
       "</tr>\n",
       "<tr>\n",
       "  <th>Covariance Type:</th>        <td>opg</td>       <th>                     </th>     <td> </td>   \n",
       "</tr>\n",
       "</table>\n",
       "<table class=\"simpletable\">\n",
       "<tr>\n",
       "      <td></td>         <th>coef</th>     <th>std err</th>      <th>z</th>      <th>P>|z|</th>  <th>[0.025</th>    <th>0.975]</th>  \n",
       "</tr>\n",
       "<tr>\n",
       "  <th>intercept</th> <td>  491.6129</td> <td>  133.669</td> <td>    3.678</td> <td> 0.000</td> <td>  229.626</td> <td>  753.600</td>\n",
       "</tr>\n",
       "<tr>\n",
       "  <th>ar.L1</th>     <td>    0.2971</td> <td>    0.085</td> <td>    3.510</td> <td> 0.000</td> <td>    0.131</td> <td>    0.463</td>\n",
       "</tr>\n",
       "<tr>\n",
       "  <th>ar.L2</th>     <td>    0.3364</td> <td>    0.092</td> <td>    3.650</td> <td> 0.000</td> <td>    0.156</td> <td>    0.517</td>\n",
       "</tr>\n",
       "<tr>\n",
       "  <th>ar.L3</th>     <td>   -0.1533</td> <td>    0.100</td> <td>   -1.539</td> <td> 0.124</td> <td>   -0.349</td> <td>    0.042</td>\n",
       "</tr>\n",
       "<tr>\n",
       "  <th>sigma2</th>    <td> 2.441e+05</td> <td> 3.51e+04</td> <td>    6.963</td> <td> 0.000</td> <td> 1.75e+05</td> <td> 3.13e+05</td>\n",
       "</tr>\n",
       "</table>\n",
       "<table class=\"simpletable\">\n",
       "<tr>\n",
       "  <th>Ljung-Box (L1) (Q):</th>     <td>0.00</td> <th>  Jarque-Bera (JB):  </th> <td>3.51</td>\n",
       "</tr>\n",
       "<tr>\n",
       "  <th>Prob(Q):</th>                <td>0.97</td> <th>  Prob(JB):          </th> <td>0.17</td>\n",
       "</tr>\n",
       "<tr>\n",
       "  <th>Heteroskedasticity (H):</th> <td>0.90</td> <th>  Skew:              </th> <td>0.47</td>\n",
       "</tr>\n",
       "<tr>\n",
       "  <th>Prob(H) (two-sided):</th>    <td>0.78</td> <th>  Kurtosis:          </th> <td>3.08</td>\n",
       "</tr>\n",
       "</table><br/><br/>Warnings:<br/>[1] Covariance matrix calculated using the outer product of gradients (complex-step)."
      ],
      "text/plain": [
       "<class 'statsmodels.iolib.summary.Summary'>\n",
       "\"\"\"\n",
       "                               SARIMAX Results                                \n",
       "==============================================================================\n",
       "Dep. Variable:                      y   No. Observations:                   96\n",
       "Model:               SARIMAX(3, 0, 0)   Log Likelihood                -735.145\n",
       "Date:                Sun, 25 Jun 2023   AIC                           1480.289\n",
       "Time:                        07:08:29   BIC                           1493.111\n",
       "Sample:                    11-01-2014   HQIC                          1485.472\n",
       "                         - 10-01-2022                                         \n",
       "Covariance Type:                  opg                                         \n",
       "==============================================================================\n",
       "                 coef    std err          z      P>|z|      [0.025      0.975]\n",
       "------------------------------------------------------------------------------\n",
       "intercept    491.6129    133.669      3.678      0.000     229.626     753.600\n",
       "ar.L1          0.2971      0.085      3.510      0.000       0.131       0.463\n",
       "ar.L2          0.3364      0.092      3.650      0.000       0.156       0.517\n",
       "ar.L3         -0.1533      0.100     -1.539      0.124      -0.349       0.042\n",
       "sigma2      2.441e+05   3.51e+04      6.963      0.000    1.75e+05    3.13e+05\n",
       "===================================================================================\n",
       "Ljung-Box (L1) (Q):                   0.00   Jarque-Bera (JB):                 3.51\n",
       "Prob(Q):                              0.97   Prob(JB):                         0.17\n",
       "Heteroskedasticity (H):               0.90   Skew:                             0.47\n",
       "Prob(H) (two-sided):                  0.78   Kurtosis:                         3.08\n",
       "===================================================================================\n",
       "\n",
       "Warnings:\n",
       "[1] Covariance matrix calculated using the outer product of gradients (complex-step).\n",
       "\"\"\""
      ]
     },
     "execution_count": 22,
     "metadata": {},
     "output_type": "execute_result"
    }
   ],
   "source": [
    "auto_arima(skudata_interpolatedMS['Final Quantity'],seasonal=True,m=12).summary()"
   ]
  },
  {
   "cell_type": "code",
   "execution_count": 23,
   "metadata": {},
   "outputs": [
    {
     "data": {
      "text/plain": [
       "96"
      ]
     },
     "execution_count": 23,
     "metadata": {},
     "output_type": "execute_result"
    }
   ],
   "source": [
    "len(skudata_interpolatedMS)"
   ]
  },
  {
   "attachments": {},
   "cell_type": "markdown",
   "metadata": {},
   "source": [
    "# Set Train/ Test"
   ]
  },
  {
   "cell_type": "code",
   "execution_count": 24,
   "metadata": {},
   "outputs": [],
   "source": [
    "train=skudata_interpolatedMS.iloc[:70]"
   ]
  },
  {
   "cell_type": "code",
   "execution_count": 25,
   "metadata": {},
   "outputs": [],
   "source": [
    "test=skudata_interpolatedMS.iloc[70:]"
   ]
  },
  {
   "cell_type": "code",
   "execution_count": 26,
   "metadata": {},
   "outputs": [],
   "source": [
    "# Fit for SARIMA model using the score above (3,0,0)\n",
    "\n",
    "model = SARIMAX(train[\"Final Quantity\"],order=(3,0,0))"
   ]
  },
  {
   "cell_type": "code",
   "execution_count": 27,
   "metadata": {},
   "outputs": [],
   "source": [
    "result = model.fit()"
   ]
  },
  {
   "cell_type": "code",
   "execution_count": 28,
   "metadata": {},
   "outputs": [
    {
     "data": {
      "text/html": [
       "<table class=\"simpletable\">\n",
       "<caption>SARIMAX Results</caption>\n",
       "<tr>\n",
       "  <th>Dep. Variable:</th>    <td>Final Quantity</td>  <th>  No. Observations:  </th>    <td>70</td>   \n",
       "</tr>\n",
       "<tr>\n",
       "  <th>Model:</th>           <td>SARIMAX(3, 0, 0)</td> <th>  Log Likelihood     </th> <td>-540.357</td>\n",
       "</tr>\n",
       "<tr>\n",
       "  <th>Date:</th>            <td>Sun, 25 Jun 2023</td> <th>  AIC                </th> <td>1088.714</td>\n",
       "</tr>\n",
       "<tr>\n",
       "  <th>Time:</th>                <td>07:08:30</td>     <th>  BIC                </th> <td>1097.708</td>\n",
       "</tr>\n",
       "<tr>\n",
       "  <th>Sample:</th>             <td>11-01-2014</td>    <th>  HQIC               </th> <td>1092.286</td>\n",
       "</tr>\n",
       "<tr>\n",
       "  <th></th>                   <td>- 08-01-2020</td>   <th>                     </th>     <td> </td>   \n",
       "</tr>\n",
       "<tr>\n",
       "  <th>Covariance Type:</th>        <td>opg</td>       <th>                     </th>     <td> </td>   \n",
       "</tr>\n",
       "</table>\n",
       "<table class=\"simpletable\">\n",
       "<tr>\n",
       "     <td></td>       <th>coef</th>     <th>std err</th>      <th>z</th>      <th>P>|z|</th>  <th>[0.025</th>    <th>0.975]</th>  \n",
       "</tr>\n",
       "<tr>\n",
       "  <th>ar.L1</th>  <td>    0.4484</td> <td>    0.110</td> <td>    4.091</td> <td> 0.000</td> <td>    0.234</td> <td>    0.663</td>\n",
       "</tr>\n",
       "<tr>\n",
       "  <th>ar.L2</th>  <td>    0.5409</td> <td>    0.124</td> <td>    4.360</td> <td> 0.000</td> <td>    0.298</td> <td>    0.784</td>\n",
       "</tr>\n",
       "<tr>\n",
       "  <th>ar.L3</th>  <td>   -0.0794</td> <td>    0.132</td> <td>   -0.600</td> <td> 0.549</td> <td>   -0.339</td> <td>    0.180</td>\n",
       "</tr>\n",
       "<tr>\n",
       "  <th>sigma2</th> <td> 2.893e+05</td> <td> 4.53e+04</td> <td>    6.384</td> <td> 0.000</td> <td> 2.01e+05</td> <td> 3.78e+05</td>\n",
       "</tr>\n",
       "</table>\n",
       "<table class=\"simpletable\">\n",
       "<tr>\n",
       "  <th>Ljung-Box (L1) (Q):</th>     <td>0.03</td> <th>  Jarque-Bera (JB):  </th> <td>0.77</td>\n",
       "</tr>\n",
       "<tr>\n",
       "  <th>Prob(Q):</th>                <td>0.87</td> <th>  Prob(JB):          </th> <td>0.68</td>\n",
       "</tr>\n",
       "<tr>\n",
       "  <th>Heteroskedasticity (H):</th> <td>0.35</td> <th>  Skew:              </th> <td>0.15</td>\n",
       "</tr>\n",
       "<tr>\n",
       "  <th>Prob(H) (two-sided):</th>    <td>0.01</td> <th>  Kurtosis:          </th> <td>3.42</td>\n",
       "</tr>\n",
       "</table><br/><br/>Warnings:<br/>[1] Covariance matrix calculated using the outer product of gradients (complex-step)."
      ],
      "text/plain": [
       "<class 'statsmodels.iolib.summary.Summary'>\n",
       "\"\"\"\n",
       "                               SARIMAX Results                                \n",
       "==============================================================================\n",
       "Dep. Variable:         Final Quantity   No. Observations:                   70\n",
       "Model:               SARIMAX(3, 0, 0)   Log Likelihood                -540.357\n",
       "Date:                Sun, 25 Jun 2023   AIC                           1088.714\n",
       "Time:                        07:08:30   BIC                           1097.708\n",
       "Sample:                    11-01-2014   HQIC                          1092.286\n",
       "                         - 08-01-2020                                         \n",
       "Covariance Type:                  opg                                         \n",
       "==============================================================================\n",
       "                 coef    std err          z      P>|z|      [0.025      0.975]\n",
       "------------------------------------------------------------------------------\n",
       "ar.L1          0.4484      0.110      4.091      0.000       0.234       0.663\n",
       "ar.L2          0.5409      0.124      4.360      0.000       0.298       0.784\n",
       "ar.L3         -0.0794      0.132     -0.600      0.549      -0.339       0.180\n",
       "sigma2      2.893e+05   4.53e+04      6.384      0.000    2.01e+05    3.78e+05\n",
       "===================================================================================\n",
       "Ljung-Box (L1) (Q):                   0.03   Jarque-Bera (JB):                 0.77\n",
       "Prob(Q):                              0.87   Prob(JB):                         0.68\n",
       "Heteroskedasticity (H):               0.35   Skew:                             0.15\n",
       "Prob(H) (two-sided):                  0.01   Kurtosis:                         3.42\n",
       "===================================================================================\n",
       "\n",
       "Warnings:\n",
       "[1] Covariance matrix calculated using the outer product of gradients (complex-step).\n",
       "\"\"\""
      ]
     },
     "execution_count": 28,
     "metadata": {},
     "output_type": "execute_result"
    }
   ],
   "source": [
    "result.summary()"
   ]
  },
  {
   "attachments": {},
   "cell_type": "markdown",
   "metadata": {},
   "source": [
    "## Get predicted values"
   ]
  },
  {
   "cell_type": "code",
   "execution_count": 29,
   "metadata": {},
   "outputs": [],
   "source": [
    "start = len(train)"
   ]
  },
  {
   "cell_type": "code",
   "execution_count": 30,
   "metadata": {},
   "outputs": [],
   "source": [
    "end = len(train) + len(test) - 1"
   ]
  },
  {
   "cell_type": "code",
   "execution_count": 31,
   "metadata": {},
   "outputs": [],
   "source": [
    "predictions = result.predict(start,end,typ='levels').rename('SARIMA Predictions')"
   ]
  },
  {
   "cell_type": "code",
   "execution_count": 32,
   "metadata": {},
   "outputs": [
    {
     "data": {
      "text/plain": [
       "<AxesSubplot: xlabel='Promotion::Start Date Promo'>"
      ]
     },
     "execution_count": 32,
     "metadata": {},
     "output_type": "execute_result"
    },
    {
     "data": {
      "image/png": "[encoded data removed]",
      "text/plain": [
       "<Figure size 1200x800 with 1 Axes>"
      ]
     },
     "metadata": {},
     "output_type": "display_data"
    }
   ],
   "source": [
    "test[\"Final Quantity\"].plot(legend=True,figsize=(12,8))\n",
    "predictions.plot(legend=True)"
   ]
  },
  {
   "attachments": {},
   "cell_type": "markdown",
   "metadata": {},
   "source": [
    "## Great it runs a forecast. However to score it, it is best to look at the rmse (root mean squared error) vs the mean of the target value \"Final Qty\""
   ]
  },
  {
   "cell_type": "code",
   "execution_count": 33,
   "metadata": {},
   "outputs": [],
   "source": [
    "from statsmodels.tools.eval_measures import rmse"
   ]
  },
  {
   "cell_type": "code",
   "execution_count": 34,
   "metadata": {},
   "outputs": [],
   "source": [
    "error = rmse(test[\"Final Quantity\"],predictions)"
   ]
  },
  {
   "cell_type": "code",
   "execution_count": 35,
   "metadata": {},
   "outputs": [
    {
     "data": {
      "text/plain": [
       "633.7591070322784"
      ]
     },
     "execution_count": 35,
     "metadata": {},
     "output_type": "execute_result"
    }
   ],
   "source": [
    "error"
   ]
  },
  {
   "cell_type": "code",
   "execution_count": 36,
   "metadata": {},
   "outputs": [
    {
     "data": {
      "text/plain": [
       "755.0384615384615"
      ]
     },
     "execution_count": 36,
     "metadata": {},
     "output_type": "execute_result"
    }
   ],
   "source": [
    "test[\"Final Quantity\"].mean()"
   ]
  },
  {
   "attachments": {},
   "cell_type": "markdown",
   "metadata": {},
   "source": [
    "## Typically, scoring below your mean is a good start. (633.7 vs 755.0)"
   ]
  },
  {
   "cell_type": "code",
   "execution_count": null,
   "metadata": {},
   "outputs": [],
   "source": []
  },
  {
   "attachments": {},
   "cell_type": "markdown",
   "metadata": {},
   "source": [
    "# However, I beleive we can do better so lets add in X to make it sarimaX ; which introduces and exogenous varible into the model.\n",
    "\n",
    "# Essentially, this means another value from our dataset into the model."
   ]
  },
  {
   "attachments": {},
   "cell_type": "markdown",
   "metadata": {},
   "source": [
    "### Adding \"Promotion::Promo_Value\" to the model"
   ]
  },
  {
   "cell_type": "code",
   "execution_count": 37,
   "metadata": {},
   "outputs": [
    {
     "data": {
      "text/html": [
       "<table class=\"simpletable\">\n",
       "<caption>SARIMAX Results</caption>\n",
       "<tr>\n",
       "  <th>Dep. Variable:</th>           <td>y</td>        <th>  No. Observations:  </th>    <td>96</td>   \n",
       "</tr>\n",
       "<tr>\n",
       "  <th>Model:</th>           <td>SARIMAX(3, 0, 0)</td> <th>  Log Likelihood     </th> <td>-735.145</td>\n",
       "</tr>\n",
       "<tr>\n",
       "  <th>Date:</th>            <td>Sun, 25 Jun 2023</td> <th>  AIC                </th> <td>1480.289</td>\n",
       "</tr>\n",
       "<tr>\n",
       "  <th>Time:</th>                <td>07:08:33</td>     <th>  BIC                </th> <td>1493.111</td>\n",
       "</tr>\n",
       "<tr>\n",
       "  <th>Sample:</th>             <td>11-01-2014</td>    <th>  HQIC               </th> <td>1485.472</td>\n",
       "</tr>\n",
       "<tr>\n",
       "  <th></th>                   <td>- 10-01-2022</td>   <th>                     </th>     <td> </td>   \n",
       "</tr>\n",
       "<tr>\n",
       "  <th>Covariance Type:</th>        <td>opg</td>       <th>                     </th>     <td> </td>   \n",
       "</tr>\n",
       "</table>\n",
       "<table class=\"simpletable\">\n",
       "<tr>\n",
       "      <td></td>         <th>coef</th>     <th>std err</th>      <th>z</th>      <th>P>|z|</th>  <th>[0.025</th>    <th>0.975]</th>  \n",
       "</tr>\n",
       "<tr>\n",
       "  <th>intercept</th> <td>  491.6129</td> <td>  133.669</td> <td>    3.678</td> <td> 0.000</td> <td>  229.626</td> <td>  753.600</td>\n",
       "</tr>\n",
       "<tr>\n",
       "  <th>ar.L1</th>     <td>    0.2971</td> <td>    0.085</td> <td>    3.510</td> <td> 0.000</td> <td>    0.131</td> <td>    0.463</td>\n",
       "</tr>\n",
       "<tr>\n",
       "  <th>ar.L2</th>     <td>    0.3364</td> <td>    0.092</td> <td>    3.650</td> <td> 0.000</td> <td>    0.156</td> <td>    0.517</td>\n",
       "</tr>\n",
       "<tr>\n",
       "  <th>ar.L3</th>     <td>   -0.1533</td> <td>    0.100</td> <td>   -1.539</td> <td> 0.124</td> <td>   -0.349</td> <td>    0.042</td>\n",
       "</tr>\n",
       "<tr>\n",
       "  <th>sigma2</th>    <td> 2.441e+05</td> <td> 3.51e+04</td> <td>    6.963</td> <td> 0.000</td> <td> 1.75e+05</td> <td> 3.13e+05</td>\n",
       "</tr>\n",
       "</table>\n",
       "<table class=\"simpletable\">\n",
       "<tr>\n",
       "  <th>Ljung-Box (L1) (Q):</th>     <td>0.00</td> <th>  Jarque-Bera (JB):  </th> <td>3.51</td>\n",
       "</tr>\n",
       "<tr>\n",
       "  <th>Prob(Q):</th>                <td>0.97</td> <th>  Prob(JB):          </th> <td>0.17</td>\n",
       "</tr>\n",
       "<tr>\n",
       "  <th>Heteroskedasticity (H):</th> <td>0.90</td> <th>  Skew:              </th> <td>0.47</td>\n",
       "</tr>\n",
       "<tr>\n",
       "  <th>Prob(H) (two-sided):</th>    <td>0.78</td> <th>  Kurtosis:          </th> <td>3.08</td>\n",
       "</tr>\n",
       "</table><br/><br/>Warnings:<br/>[1] Covariance matrix calculated using the outer product of gradients (complex-step)."
      ],
      "text/plain": [
       "<class 'statsmodels.iolib.summary.Summary'>\n",
       "\"\"\"\n",
       "                               SARIMAX Results                                \n",
       "==============================================================================\n",
       "Dep. Variable:                      y   No. Observations:                   96\n",
       "Model:               SARIMAX(3, 0, 0)   Log Likelihood                -735.145\n",
       "Date:                Sun, 25 Jun 2023   AIC                           1480.289\n",
       "Time:                        07:08:33   BIC                           1493.111\n",
       "Sample:                    11-01-2014   HQIC                          1485.472\n",
       "                         - 10-01-2022                                         \n",
       "Covariance Type:                  opg                                         \n",
       "==============================================================================\n",
       "                 coef    std err          z      P>|z|      [0.025      0.975]\n",
       "------------------------------------------------------------------------------\n",
       "intercept    491.6129    133.669      3.678      0.000     229.626     753.600\n",
       "ar.L1          0.2971      0.085      3.510      0.000       0.131       0.463\n",
       "ar.L2          0.3364      0.092      3.650      0.000       0.156       0.517\n",
       "ar.L3         -0.1533      0.100     -1.539      0.124      -0.349       0.042\n",
       "sigma2      2.441e+05   3.51e+04      6.963      0.000    1.75e+05    3.13e+05\n",
       "===================================================================================\n",
       "Ljung-Box (L1) (Q):                   0.00   Jarque-Bera (JB):                 3.51\n",
       "Prob(Q):                              0.97   Prob(JB):                         0.17\n",
       "Heteroskedasticity (H):               0.90   Skew:                             0.47\n",
       "Prob(H) (two-sided):                  0.78   Kurtosis:                         3.08\n",
       "===================================================================================\n",
       "\n",
       "Warnings:\n",
       "[1] Covariance matrix calculated using the outer product of gradients (complex-step).\n",
       "\"\"\""
      ]
     },
     "execution_count": 37,
     "metadata": {},
     "output_type": "execute_result"
    }
   ],
   "source": [
    "auto_arima(skudata_interpolatedMS['Final Quantity'],exogenous=skudata_interpolatedMS[['Promotion::Promo_Value']],seasonal=True,m=12).summary()"
   ]
  },
  {
   "attachments": {},
   "cell_type": "markdown",
   "metadata": {},
   "source": [
    "# Train our SARIMAX"
   ]
  },
  {
   "cell_type": "code",
   "execution_count": 38,
   "metadata": {},
   "outputs": [],
   "source": [
    "model = SARIMAX(train['Final Quantity'],exog=train[['Promotion::Promo_Value']],order=(3,0,0),enforce_invertibility=False)"
   ]
  },
  {
   "cell_type": "code",
   "execution_count": 39,
   "metadata": {},
   "outputs": [],
   "source": [
    "result =model.fit()"
   ]
  },
  {
   "cell_type": "code",
   "execution_count": 40,
   "metadata": {},
   "outputs": [
    {
     "data": {
      "text/html": [
       "<table class=\"simpletable\">\n",
       "<caption>SARIMAX Results</caption>\n",
       "<tr>\n",
       "  <th>Dep. Variable:</th>    <td>Final Quantity</td>  <th>  No. Observations:  </th>    <td>70</td>   \n",
       "</tr>\n",
       "<tr>\n",
       "  <th>Model:</th>           <td>SARIMAX(3, 0, 0)</td> <th>  Log Likelihood     </th> <td>-534.586</td>\n",
       "</tr>\n",
       "<tr>\n",
       "  <th>Date:</th>            <td>Sun, 25 Jun 2023</td> <th>  AIC                </th> <td>1079.171</td>\n",
       "</tr>\n",
       "<tr>\n",
       "  <th>Time:</th>                <td>07:08:34</td>     <th>  BIC                </th> <td>1090.414</td>\n",
       "</tr>\n",
       "<tr>\n",
       "  <th>Sample:</th>             <td>11-01-2014</td>    <th>  HQIC               </th> <td>1083.637</td>\n",
       "</tr>\n",
       "<tr>\n",
       "  <th></th>                   <td>- 08-01-2020</td>   <th>                     </th>     <td> </td>   \n",
       "</tr>\n",
       "<tr>\n",
       "  <th>Covariance Type:</th>        <td>opg</td>       <th>                     </th>     <td> </td>   \n",
       "</tr>\n",
       "</table>\n",
       "<table class=\"simpletable\">\n",
       "<tr>\n",
       "             <td></td>               <th>coef</th>     <th>std err</th>      <th>z</th>      <th>P>|z|</th>  <th>[0.025</th>    <th>0.975]</th>  \n",
       "</tr>\n",
       "<tr>\n",
       "  <th>Promotion::Promo_Value</th> <td>    1.9267</td> <td>    0.232</td> <td>    8.313</td> <td> 0.000</td> <td>    1.472</td> <td>    2.381</td>\n",
       "</tr>\n",
       "<tr>\n",
       "  <th>ar.L1</th>                  <td>    0.4068</td> <td>    0.107</td> <td>    3.805</td> <td> 0.000</td> <td>    0.197</td> <td>    0.616</td>\n",
       "</tr>\n",
       "<tr>\n",
       "  <th>ar.L2</th>                  <td>    0.3271</td> <td>    0.127</td> <td>    2.576</td> <td> 0.010</td> <td>    0.078</td> <td>    0.576</td>\n",
       "</tr>\n",
       "<tr>\n",
       "  <th>ar.L3</th>                  <td>   -0.2004</td> <td>    0.122</td> <td>   -1.640</td> <td> 0.101</td> <td>   -0.440</td> <td>    0.039</td>\n",
       "</tr>\n",
       "<tr>\n",
       "  <th>sigma2</th>                 <td> 2.498e+05</td> <td> 4.04e+04</td> <td>    6.189</td> <td> 0.000</td> <td> 1.71e+05</td> <td> 3.29e+05</td>\n",
       "</tr>\n",
       "</table>\n",
       "<table class=\"simpletable\">\n",
       "<tr>\n",
       "  <th>Ljung-Box (L1) (Q):</th>     <td>0.00</td> <th>  Jarque-Bera (JB):  </th> <td>3.09</td>\n",
       "</tr>\n",
       "<tr>\n",
       "  <th>Prob(Q):</th>                <td>0.97</td> <th>  Prob(JB):          </th> <td>0.21</td>\n",
       "</tr>\n",
       "<tr>\n",
       "  <th>Heteroskedasticity (H):</th> <td>0.62</td> <th>  Skew:              </th> <td>0.51</td>\n",
       "</tr>\n",
       "<tr>\n",
       "  <th>Prob(H) (two-sided):</th>    <td>0.26</td> <th>  Kurtosis:          </th> <td>3.18</td>\n",
       "</tr>\n",
       "</table><br/><br/>Warnings:<br/>[1] Covariance matrix calculated using the outer product of gradients (complex-step)."
      ],
      "text/plain": [
       "<class 'statsmodels.iolib.summary.Summary'>\n",
       "\"\"\"\n",
       "                               SARIMAX Results                                \n",
       "==============================================================================\n",
       "Dep. Variable:         Final Quantity   No. Observations:                   70\n",
       "Model:               SARIMAX(3, 0, 0)   Log Likelihood                -534.586\n",
       "Date:                Sun, 25 Jun 2023   AIC                           1079.171\n",
       "Time:                        07:08:34   BIC                           1090.414\n",
       "Sample:                    11-01-2014   HQIC                          1083.637\n",
       "                         - 08-01-2020                                         \n",
       "Covariance Type:                  opg                                         \n",
       "==========================================================================================\n",
       "                             coef    std err          z      P>|z|      [0.025      0.975]\n",
       "------------------------------------------------------------------------------------------\n",
       "Promotion::Promo_Value     1.9267      0.232      8.313      0.000       1.472       2.381\n",
       "ar.L1                      0.4068      0.107      3.805      0.000       0.197       0.616\n",
       "ar.L2                      0.3271      0.127      2.576      0.010       0.078       0.576\n",
       "ar.L3                     -0.2004      0.122     -1.640      0.101      -0.440       0.039\n",
       "sigma2                  2.498e+05   4.04e+04      6.189      0.000    1.71e+05    3.29e+05\n",
       "===================================================================================\n",
       "Ljung-Box (L1) (Q):                   0.00   Jarque-Bera (JB):                 3.09\n",
       "Prob(Q):                              0.97   Prob(JB):                         0.21\n",
       "Heteroskedasticity (H):               0.62   Skew:                             0.51\n",
       "Prob(H) (two-sided):                  0.26   Kurtosis:                         3.18\n",
       "===================================================================================\n",
       "\n",
       "Warnings:\n",
       "[1] Covariance matrix calculated using the outer product of gradients (complex-step).\n",
       "\"\"\""
      ]
     },
     "execution_count": 40,
     "metadata": {},
     "output_type": "execute_result"
    }
   ],
   "source": [
    "result.summary()"
   ]
  },
  {
   "cell_type": "code",
   "execution_count": 41,
   "metadata": {},
   "outputs": [],
   "source": [
    "start = len(train)\n",
    "end = len(train) + len(test) - 1"
   ]
  },
  {
   "cell_type": "code",
   "execution_count": 42,
   "metadata": {},
   "outputs": [],
   "source": [
    "predictions = result.predict(start,end,exog=test[['Promotion::Promo_Value']]).rename('SARIMAX with Exog')"
   ]
  },
  {
   "cell_type": "code",
   "execution_count": 43,
   "metadata": {},
   "outputs": [
    {
     "data": {
      "text/plain": [
       "<AxesSubplot: xlabel='Promotion::Start Date Promo'>"
      ]
     },
     "execution_count": 43,
     "metadata": {},
     "output_type": "execute_result"
    },
    {
     "data": {
      "image/png": "[encoded data removed]",
      "text/plain": [
       "<Figure size 1200x800 with 1 Axes>"
      ]
     },
     "metadata": {},
     "output_type": "display_data"
    }
   ],
   "source": [
    "predictions.plot(figsize=(12,8),legend=True)\n",
    "test['Final Quantity'].plot(legend=True)"
   ]
  },
  {
   "cell_type": "code",
   "execution_count": 44,
   "metadata": {},
   "outputs": [
    {
     "data": {
      "text/plain": [
       "587.8002307741417"
      ]
     },
     "execution_count": 44,
     "metadata": {},
     "output_type": "execute_result"
    }
   ],
   "source": [
    "rmse(test[\"Final Quantity\"],predictions)"
   ]
  },
  {
   "attachments": {},
   "cell_type": "markdown",
   "metadata": {},
   "source": [
    "## Great our rmse performs better, and we can see visually that our model looks better compared to the actual result."
   ]
  },
  {
   "cell_type": "code",
   "execution_count": null,
   "metadata": {},
   "outputs": [],
   "source": []
  },
  {
   "attachments": {},
   "cell_type": "markdown",
   "metadata": {},
   "source": [
    "# Lets run the full SARIMAX model into the unknown future."
   ]
  },
  {
   "cell_type": "code",
   "execution_count": 45,
   "metadata": {},
   "outputs": [],
   "source": [
    "model = SARIMAX(skudata_interpolatedMS['Final Quantity'],exog=skudata_interpolatedMS[['Promotion::Promo_Value']],order=(3,0,0),enforce_invertibility=False)"
   ]
  },
  {
   "cell_type": "code",
   "execution_count": 46,
   "metadata": {},
   "outputs": [],
   "source": [
    "results = model.fit()"
   ]
  },
  {
   "cell_type": "code",
   "execution_count": 47,
   "metadata": {},
   "outputs": [],
   "source": [
    "exog_forecast = skudata_interpolatedMS[29:][[\"Promotion::Promo_Value\"]]"
   ]
  },
  {
   "cell_type": "code",
   "execution_count": 48,
   "metadata": {},
   "outputs": [],
   "source": [
    "fcast = result.predict(len(skudata_interpolatedMS),len(skudata_interpolatedMS)+40,exog=exog_forecast).rename(\"FINAL SARIMAX FORECAST\")"
   ]
  },
  {
   "cell_type": "code",
   "execution_count": 49,
   "metadata": {},
   "outputs": [
    {
     "data": {
      "text/plain": [
       "<AxesSubplot: xlabel='Promotion::Start Date Promo'>"
      ]
     },
     "execution_count": 49,
     "metadata": {},
     "output_type": "execute_result"
    },
    {
     "data": {
      "image/png": "[encoded data removed]",
      "text/plain": [
       "<Figure size 1500x800 with 1 Axes>"
      ]
     },
     "metadata": {},
     "output_type": "display_data"
    }
   ],
   "source": [
    "skudata_interpolatedMS['Final Quantity'].plot(figsize=(15,8),legend=True)\n",
    "fcast.plot(legend=True)"
   ]
  },
  {
   "attachments": {},
   "cell_type": "markdown",
   "metadata": {},
   "source": [
    "# Great it runs into the future."
   ]
  },
  {
   "attachments": {},
   "cell_type": "markdown",
   "metadata": {},
   "source": [
    "# However, I still can't explain if selling at a higher price point is actually effective. Given \"Promotional Value\" has no statistical relavance.\n",
    "\n",
    "## Therefore lets look at Linear price response function, Price elasticy, & Maximum profit"
   ]
  },
  {
   "cell_type": "code",
   "execution_count": 50,
   "metadata": {},
   "outputs": [
    {
     "data": {
      "text/html": [
       "<div>\n",
       "<style scoped>\n",
       "    .dataframe tbody tr th:only-of-type {\n",
       "        vertical-align: middle;\n",
       "    }\n",
       "\n",
       "    .dataframe tbody tr th {\n",
       "        vertical-align: top;\n",
       "    }\n",
       "\n",
       "    .dataframe thead th {\n",
       "        text-align: right;\n",
       "    }\n",
       "</style>\n",
       "<table border=\"1\" class=\"dataframe\">\n",
       "  <thead>\n",
       "    <tr style=\"text-align: right;\">\n",
       "      <th></th>\n",
       "      <th>Account Factors::Profit Center</th>\n",
       "      <th>Promo ID</th>\n",
       "      <th>Pricing::Segment</th>\n",
       "      <th>Pricing::Engine</th>\n",
       "      <th>Promotion::SKU</th>\n",
       "      <th>Promotion::End Date Promo</th>\n",
       "      <th>Pricing::Street</th>\n",
       "      <th>Promotion::Promo_Value</th>\n",
       "      <th>Promotion::Promo Type</th>\n",
       "      <th>Promotion::Promo_Net Price Point</th>\n",
       "      <th>...</th>\n",
       "      <th>Sell Through Estimate POS</th>\n",
       "      <th>Sell Through Estimate Inv</th>\n",
       "      <th>Final Quantity</th>\n",
       "      <th>Sell Through Estimate</th>\n",
       "      <th>SOP_Period</th>\n",
       "      <th>SOP_Half</th>\n",
       "      <th>SOP_Quarter</th>\n",
       "      <th>Usage ID</th>\n",
       "      <th>Account Factors::SAP Account</th>\n",
       "      <th>Promotion::LevelType</th>\n",
       "    </tr>\n",
       "    <tr>\n",
       "      <th>Promotion::Start Date Promo</th>\n",
       "      <th></th>\n",
       "      <th></th>\n",
       "      <th></th>\n",
       "      <th></th>\n",
       "      <th></th>\n",
       "      <th></th>\n",
       "      <th></th>\n",
       "      <th></th>\n",
       "      <th></th>\n",
       "      <th></th>\n",
       "      <th></th>\n",
       "      <th></th>\n",
       "      <th></th>\n",
       "      <th></th>\n",
       "      <th></th>\n",
       "      <th></th>\n",
       "      <th></th>\n",
       "      <th></th>\n",
       "      <th></th>\n",
       "      <th></th>\n",
       "      <th></th>\n",
       "    </tr>\n",
       "  </thead>\n",
       "  <tbody>\n",
       "    <tr>\n",
       "      <th>2014-12-01</th>\n",
       "      <td>1010</td>\n",
       "      <td>6894</td>\n",
       "      <td>zzz</td>\n",
       "      <td>123</td>\n",
       "      <td>TP1</td>\n",
       "      <td>12/31/2014</td>\n",
       "      <td>459.99</td>\n",
       "      <td>7.0</td>\n",
       "      <td>2</td>\n",
       "      <td>452.99</td>\n",
       "      <td>...</td>\n",
       "      <td>371.0</td>\n",
       "      <td>62.000000</td>\n",
       "      <td>62.0</td>\n",
       "      <td>160.0</td>\n",
       "      <td>209</td>\n",
       "      <td>H2</td>\n",
       "      <td>Q3</td>\n",
       "      <td>23747.0</td>\n",
       "      <td>2</td>\n",
       "      <td>2</td>\n",
       "    </tr>\n",
       "    <tr>\n",
       "      <th>2014-12-01</th>\n",
       "      <td>1010</td>\n",
       "      <td>6894</td>\n",
       "      <td>zzz</td>\n",
       "      <td>123</td>\n",
       "      <td>TP1</td>\n",
       "      <td>12/31/2014</td>\n",
       "      <td>459.99</td>\n",
       "      <td>7.0</td>\n",
       "      <td>2</td>\n",
       "      <td>452.99</td>\n",
       "      <td>...</td>\n",
       "      <td>276.0</td>\n",
       "      <td>182.333333</td>\n",
       "      <td>0.0</td>\n",
       "      <td>0.0</td>\n",
       "      <td>209</td>\n",
       "      <td>H2</td>\n",
       "      <td>Q3</td>\n",
       "      <td>23749.0</td>\n",
       "      <td>1</td>\n",
       "      <td>1</td>\n",
       "    </tr>\n",
       "    <tr>\n",
       "      <th>2015-01-01</th>\n",
       "      <td>1080</td>\n",
       "      <td>6895</td>\n",
       "      <td>zzz</td>\n",
       "      <td>123</td>\n",
       "      <td>TP1</td>\n",
       "      <td>1/31/2015</td>\n",
       "      <td>459.99</td>\n",
       "      <td>30.0</td>\n",
       "      <td>1</td>\n",
       "      <td>429.99</td>\n",
       "      <td>...</td>\n",
       "      <td>181.0</td>\n",
       "      <td>302.666667</td>\n",
       "      <td>0.0</td>\n",
       "      <td>0.0</td>\n",
       "      <td>210</td>\n",
       "      <td>H2</td>\n",
       "      <td>Q1</td>\n",
       "      <td>23750.0</td>\n",
       "      <td>3</td>\n",
       "      <td>3</td>\n",
       "    </tr>\n",
       "    <tr>\n",
       "      <th>2015-01-01</th>\n",
       "      <td>1010</td>\n",
       "      <td>6895</td>\n",
       "      <td>zzz</td>\n",
       "      <td>123</td>\n",
       "      <td>TP1</td>\n",
       "      <td>1/31/2015</td>\n",
       "      <td>459.99</td>\n",
       "      <td>30.0</td>\n",
       "      <td>1</td>\n",
       "      <td>429.99</td>\n",
       "      <td>...</td>\n",
       "      <td>86.0</td>\n",
       "      <td>423.000000</td>\n",
       "      <td>423.0</td>\n",
       "      <td>160.0</td>\n",
       "      <td>210</td>\n",
       "      <td>H2</td>\n",
       "      <td>Q1</td>\n",
       "      <td>23751.0</td>\n",
       "      <td>2</td>\n",
       "      <td>2</td>\n",
       "    </tr>\n",
       "    <tr>\n",
       "      <th>2015-01-01</th>\n",
       "      <td>1010</td>\n",
       "      <td>6895</td>\n",
       "      <td>zzz</td>\n",
       "      <td>123</td>\n",
       "      <td>TP1</td>\n",
       "      <td>1/31/2015</td>\n",
       "      <td>459.99</td>\n",
       "      <td>30.0</td>\n",
       "      <td>1</td>\n",
       "      <td>429.99</td>\n",
       "      <td>...</td>\n",
       "      <td>69.5</td>\n",
       "      <td>390.000000</td>\n",
       "      <td>0.0</td>\n",
       "      <td>0.0</td>\n",
       "      <td>210</td>\n",
       "      <td>H2</td>\n",
       "      <td>Q1</td>\n",
       "      <td>23752.0</td>\n",
       "      <td>1</td>\n",
       "      <td>1</td>\n",
       "    </tr>\n",
       "    <tr>\n",
       "      <th>...</th>\n",
       "      <td>...</td>\n",
       "      <td>...</td>\n",
       "      <td>...</td>\n",
       "      <td>...</td>\n",
       "      <td>...</td>\n",
       "      <td>...</td>\n",
       "      <td>...</td>\n",
       "      <td>...</td>\n",
       "      <td>...</td>\n",
       "      <td>...</td>\n",
       "      <td>...</td>\n",
       "      <td>...</td>\n",
       "      <td>...</td>\n",
       "      <td>...</td>\n",
       "      <td>...</td>\n",
       "      <td>...</td>\n",
       "      <td>...</td>\n",
       "      <td>...</td>\n",
       "      <td>...</td>\n",
       "      <td>...</td>\n",
       "      <td>...</td>\n",
       "    </tr>\n",
       "    <tr>\n",
       "      <th>2022-06-01</th>\n",
       "      <td>1010</td>\n",
       "      <td>108237</td>\n",
       "      <td>zzz</td>\n",
       "      <td>123</td>\n",
       "      <td>TP1</td>\n",
       "      <td>6/30/2022</td>\n",
       "      <td>79.99</td>\n",
       "      <td>10.0</td>\n",
       "      <td>1</td>\n",
       "      <td>69.99</td>\n",
       "      <td>...</td>\n",
       "      <td>0.0</td>\n",
       "      <td>0.000000</td>\n",
       "      <td>0.0</td>\n",
       "      <td>914.0</td>\n",
       "      <td>203</td>\n",
       "      <td>H1</td>\n",
       "      <td>Q1</td>\n",
       "      <td>205610.0</td>\n",
       "      <td>1</td>\n",
       "      <td>1</td>\n",
       "    </tr>\n",
       "    <tr>\n",
       "      <th>2022-08-01</th>\n",
       "      <td>1010</td>\n",
       "      <td>108686</td>\n",
       "      <td>zzz</td>\n",
       "      <td>123</td>\n",
       "      <td>TP1</td>\n",
       "      <td>8/31/2022</td>\n",
       "      <td>79.99</td>\n",
       "      <td>12.0</td>\n",
       "      <td>1</td>\n",
       "      <td>67.99</td>\n",
       "      <td>...</td>\n",
       "      <td>0.0</td>\n",
       "      <td>61.000000</td>\n",
       "      <td>0.0</td>\n",
       "      <td>0.0</td>\n",
       "      <td>205</td>\n",
       "      <td>H1</td>\n",
       "      <td>Q2</td>\n",
       "      <td>206024.0</td>\n",
       "      <td>4</td>\n",
       "      <td>4</td>\n",
       "    </tr>\n",
       "    <tr>\n",
       "      <th>2022-09-01</th>\n",
       "      <td>1010</td>\n",
       "      <td>108714</td>\n",
       "      <td>zzz</td>\n",
       "      <td>123</td>\n",
       "      <td>TP1</td>\n",
       "      <td>9/30/2022</td>\n",
       "      <td>79.99</td>\n",
       "      <td>22.0</td>\n",
       "      <td>1</td>\n",
       "      <td>57.99</td>\n",
       "      <td>...</td>\n",
       "      <td>0.0</td>\n",
       "      <td>122.000000</td>\n",
       "      <td>0.0</td>\n",
       "      <td>0.0</td>\n",
       "      <td>206</td>\n",
       "      <td>H1</td>\n",
       "      <td>Q2</td>\n",
       "      <td>206028.0</td>\n",
       "      <td>4</td>\n",
       "      <td>4</td>\n",
       "    </tr>\n",
       "    <tr>\n",
       "      <th>2022-10-01</th>\n",
       "      <td>1010</td>\n",
       "      <td>108742</td>\n",
       "      <td>zzz</td>\n",
       "      <td>123</td>\n",
       "      <td>TP1</td>\n",
       "      <td>10/31/2022</td>\n",
       "      <td>79.99</td>\n",
       "      <td>22.0</td>\n",
       "      <td>1</td>\n",
       "      <td>57.99</td>\n",
       "      <td>...</td>\n",
       "      <td>0.0</td>\n",
       "      <td>183.000000</td>\n",
       "      <td>0.0</td>\n",
       "      <td>0.0</td>\n",
       "      <td>207</td>\n",
       "      <td>H2</td>\n",
       "      <td>Q3</td>\n",
       "      <td>206032.0</td>\n",
       "      <td>4</td>\n",
       "      <td>4</td>\n",
       "    </tr>\n",
       "    <tr>\n",
       "      <th>2022-01-01</th>\n",
       "      <td>1010</td>\n",
       "      <td>107892</td>\n",
       "      <td>zzz</td>\n",
       "      <td>123</td>\n",
       "      <td>TP1</td>\n",
       "      <td>1/31/2022</td>\n",
       "      <td>79.99</td>\n",
       "      <td>30.0</td>\n",
       "      <td>1</td>\n",
       "      <td>49.99</td>\n",
       "      <td>...</td>\n",
       "      <td>0.0</td>\n",
       "      <td>244.000000</td>\n",
       "      <td>244.0</td>\n",
       "      <td>0.0</td>\n",
       "      <td>210</td>\n",
       "      <td>H2</td>\n",
       "      <td>Q1</td>\n",
       "      <td>206058.0</td>\n",
       "      <td>4</td>\n",
       "      <td>4</td>\n",
       "    </tr>\n",
       "  </tbody>\n",
       "</table>\n",
       "<p>1552 rows × 28 columns</p>\n",
       "</div>"
      ],
      "text/plain": [
       "                             Account Factors::Profit Center  Promo ID  \\\n",
       "Promotion::Start Date Promo                                             \n",
       "2014-12-01                                             1010      6894   \n",
       "2014-12-01                                             1010      6894   \n",
       "2015-01-01                                             1080      6895   \n",
       "2015-01-01                                             1010      6895   \n",
       "2015-01-01                                             1010      6895   \n",
       "...                                                     ...       ...   \n",
       "2022-06-01                                             1010    108237   \n",
       "2022-08-01                                             1010    108686   \n",
       "2022-09-01                                             1010    108714   \n",
       "2022-10-01                                             1010    108742   \n",
       "2022-01-01                                             1010    107892   \n",
       "\n",
       "                            Pricing::Segment  Pricing::Engine Promotion::SKU  \\\n",
       "Promotion::Start Date Promo                                                    \n",
       "2014-12-01                               zzz              123            TP1   \n",
       "2014-12-01                               zzz              123            TP1   \n",
       "2015-01-01                               zzz              123            TP1   \n",
       "2015-01-01                               zzz              123            TP1   \n",
       "2015-01-01                               zzz              123            TP1   \n",
       "...                                      ...              ...            ...   \n",
       "2022-06-01                               zzz              123            TP1   \n",
       "2022-08-01                               zzz              123            TP1   \n",
       "2022-09-01                               zzz              123            TP1   \n",
       "2022-10-01                               zzz              123            TP1   \n",
       "2022-01-01                               zzz              123            TP1   \n",
       "\n",
       "                            Promotion::End Date Promo  Pricing::Street  \\\n",
       "Promotion::Start Date Promo                                              \n",
       "2014-12-01                                 12/31/2014           459.99   \n",
       "2014-12-01                                 12/31/2014           459.99   \n",
       "2015-01-01                                  1/31/2015           459.99   \n",
       "2015-01-01                                  1/31/2015           459.99   \n",
       "2015-01-01                                  1/31/2015           459.99   \n",
       "...                                               ...              ...   \n",
       "2022-06-01                                  6/30/2022            79.99   \n",
       "2022-08-01                                  8/31/2022            79.99   \n",
       "2022-09-01                                  9/30/2022            79.99   \n",
       "2022-10-01                                 10/31/2022            79.99   \n",
       "2022-01-01                                  1/31/2022            79.99   \n",
       "\n",
       "                             Promotion::Promo_Value  Promotion::Promo Type  \\\n",
       "Promotion::Start Date Promo                                                  \n",
       "2014-12-01                                      7.0                      2   \n",
       "2014-12-01                                      7.0                      2   \n",
       "2015-01-01                                     30.0                      1   \n",
       "2015-01-01                                     30.0                      1   \n",
       "2015-01-01                                     30.0                      1   \n",
       "...                                             ...                    ...   \n",
       "2022-06-01                                     10.0                      1   \n",
       "2022-08-01                                     12.0                      1   \n",
       "2022-09-01                                     22.0                      1   \n",
       "2022-10-01                                     22.0                      1   \n",
       "2022-01-01                                     30.0                      1   \n",
       "\n",
       "                             Promotion::Promo_Net Price Point  ...  \\\n",
       "Promotion::Start Date Promo                                    ...   \n",
       "2014-12-01                                             452.99  ...   \n",
       "2014-12-01                                             452.99  ...   \n",
       "2015-01-01                                             429.99  ...   \n",
       "2015-01-01                                             429.99  ...   \n",
       "2015-01-01                                             429.99  ...   \n",
       "...                                                       ...  ...   \n",
       "2022-06-01                                              69.99  ...   \n",
       "2022-08-01                                              67.99  ...   \n",
       "2022-09-01                                              57.99  ...   \n",
       "2022-10-01                                              57.99  ...   \n",
       "2022-01-01                                              49.99  ...   \n",
       "\n",
       "                             Sell Through Estimate POS  \\\n",
       "Promotion::Start Date Promo                              \n",
       "2014-12-01                                       371.0   \n",
       "2014-12-01                                       276.0   \n",
       "2015-01-01                                       181.0   \n",
       "2015-01-01                                        86.0   \n",
       "2015-01-01                                        69.5   \n",
       "...                                                ...   \n",
       "2022-06-01                                         0.0   \n",
       "2022-08-01                                         0.0   \n",
       "2022-09-01                                         0.0   \n",
       "2022-10-01                                         0.0   \n",
       "2022-01-01                                         0.0   \n",
       "\n",
       "                             Sell Through Estimate Inv  Final Quantity  \\\n",
       "Promotion::Start Date Promo                                              \n",
       "2014-12-01                                   62.000000            62.0   \n",
       "2014-12-01                                  182.333333             0.0   \n",
       "2015-01-01                                  302.666667             0.0   \n",
       "2015-01-01                                  423.000000           423.0   \n",
       "2015-01-01                                  390.000000             0.0   \n",
       "...                                                ...             ...   \n",
       "2022-06-01                                    0.000000             0.0   \n",
       "2022-08-01                                   61.000000             0.0   \n",
       "2022-09-01                                  122.000000             0.0   \n",
       "2022-10-01                                  183.000000             0.0   \n",
       "2022-01-01                                  244.000000           244.0   \n",
       "\n",
       "                             Sell Through Estimate  SOP_Period  SOP_Half  \\\n",
       "Promotion::Start Date Promo                                                \n",
       "2014-12-01                                   160.0         209        H2   \n",
       "2014-12-01                                     0.0         209        H2   \n",
       "2015-01-01                                     0.0         210        H2   \n",
       "2015-01-01                                   160.0         210        H2   \n",
       "2015-01-01                                     0.0         210        H2   \n",
       "...                                            ...         ...       ...   \n",
       "2022-06-01                                   914.0         203        H1   \n",
       "2022-08-01                                     0.0         205        H1   \n",
       "2022-09-01                                     0.0         206        H1   \n",
       "2022-10-01                                     0.0         207        H2   \n",
       "2022-01-01                                     0.0         210        H2   \n",
       "\n",
       "                             SOP_Quarter  Usage ID  \\\n",
       "Promotion::Start Date Promo                          \n",
       "2014-12-01                            Q3   23747.0   \n",
       "2014-12-01                            Q3   23749.0   \n",
       "2015-01-01                            Q1   23750.0   \n",
       "2015-01-01                            Q1   23751.0   \n",
       "2015-01-01                            Q1   23752.0   \n",
       "...                                  ...       ...   \n",
       "2022-06-01                            Q1  205610.0   \n",
       "2022-08-01                            Q2  206024.0   \n",
       "2022-09-01                            Q2  206028.0   \n",
       "2022-10-01                            Q3  206032.0   \n",
       "2022-01-01                            Q1  206058.0   \n",
       "\n",
       "                             Account Factors::SAP Account  \\\n",
       "Promotion::Start Date Promo                                 \n",
       "2014-12-01                                              2   \n",
       "2014-12-01                                              1   \n",
       "2015-01-01                                              3   \n",
       "2015-01-01                                              2   \n",
       "2015-01-01                                              1   \n",
       "...                                                   ...   \n",
       "2022-06-01                                              1   \n",
       "2022-08-01                                              4   \n",
       "2022-09-01                                              4   \n",
       "2022-10-01                                              4   \n",
       "2022-01-01                                              4   \n",
       "\n",
       "                             Promotion::LevelType  \n",
       "Promotion::Start Date Promo                        \n",
       "2014-12-01                                      2  \n",
       "2014-12-01                                      1  \n",
       "2015-01-01                                      3  \n",
       "2015-01-01                                      2  \n",
       "2015-01-01                                      1  \n",
       "...                                           ...  \n",
       "2022-06-01                                      1  \n",
       "2022-08-01                                      4  \n",
       "2022-09-01                                      4  \n",
       "2022-10-01                                      4  \n",
       "2022-01-01                                      4  \n",
       "\n",
       "[1552 rows x 28 columns]"
      ]
     },
     "execution_count": 50,
     "metadata": {},
     "output_type": "execute_result"
    }
   ],
   "source": [
    "skudata_interpolated"
   ]
  },
  {
   "cell_type": "code",
   "execution_count": 51,
   "metadata": {},
   "outputs": [
    {
     "data": {
      "text/plain": [
       "array([452.99, 429.99, 424.99,  39.99,  49.99,  59.99,  54.99,  66.99,\n",
       "        52.99,  42.99,  76.1 ,  46.99,  44.99,  56.99,  35.99,  25.99,\n",
       "        57.99,  50.99,  43.99,  58.99,  33.99,  72.99,  63.99,  62.99,\n",
       "        61.99,  78.99,  45.99,  64.99,  71.99,  69.99,  67.99])"
      ]
     },
     "execution_count": 51,
     "metadata": {},
     "output_type": "execute_result"
    }
   ],
   "source": [
    "skudata_interpolated['Promotion::Promo_Net Price Point'].unique()"
   ]
  },
  {
   "cell_type": "code",
   "execution_count": 52,
   "metadata": {},
   "outputs": [],
   "source": [
    "net_pp = skudata_interpolated.loc[skudata_interpolated['Promotion::Promo_Net Price Point'] < 70.00, 'Promotion::Promo_Net Price Point']"
   ]
  },
  {
   "cell_type": "code",
   "execution_count": 53,
   "metadata": {},
   "outputs": [
    {
     "data": {
      "text/plain": [
       "1492"
      ]
     },
     "execution_count": 53,
     "metadata": {},
     "output_type": "execute_result"
    }
   ],
   "source": [
    "len(net_pp)"
   ]
  },
  {
   "cell_type": "code",
   "execution_count": 54,
   "metadata": {},
   "outputs": [
    {
     "name": "stdout",
     "output_type": "stream",
     "text": [
      "Promotion::Start Date Promo\n",
      "2015-05-01      5.0\n",
      "2015-05-01     57.0\n",
      "2015-05-01      0.0\n",
      "2015-05-01      5.0\n",
      "2015-05-01     14.0\n",
      "              ...  \n",
      "2022-06-01      0.0\n",
      "2022-08-01      0.0\n",
      "2022-09-01      0.0\n",
      "2022-10-01      0.0\n",
      "2022-01-01    244.0\n",
      "Name: Final Quantity, Length: 1492, dtype: float64\n"
     ]
    }
   ],
   "source": [
    "filtered_prices = skudata_interpolated.loc[skudata_interpolated['Promotion::Promo_Net Price Point'] < 70.00, 'Promotion::Promo_Net Price Point']\n",
    "final_quantity = skudata_interpolated.loc[skudata_interpolated['Promotion::Promo_Net Price Point'].isin(filtered_prices), 'Final Quantity']\n",
    "print(final_quantity)\n"
   ]
  },
  {
   "cell_type": "code",
   "execution_count": 55,
   "metadata": {},
   "outputs": [
    {
     "data": {
      "text/plain": [
       "1492"
      ]
     },
     "execution_count": 55,
     "metadata": {},
     "output_type": "execute_result"
    }
   ],
   "source": [
    "len(final_quantity)"
   ]
  },
  {
   "cell_type": "code",
   "execution_count": 56,
   "metadata": {},
   "outputs": [
    {
     "data": {
      "text/plain": [
       "Promotion::Start Date Promo\n",
       "2014-12-01     62.0\n",
       "2014-12-01      0.0\n",
       "2015-01-01      0.0\n",
       "2015-01-01    423.0\n",
       "2015-01-01      0.0\n",
       "              ...  \n",
       "2022-06-01      0.0\n",
       "2022-08-01      0.0\n",
       "2022-09-01      0.0\n",
       "2022-10-01      0.0\n",
       "2022-01-01    244.0\n",
       "Name: Final Quantity, Length: 1552, dtype: float64"
      ]
     },
     "execution_count": 56,
     "metadata": {},
     "output_type": "execute_result"
    }
   ],
   "source": [
    "skudata_interpolated['Final Quantity']"
   ]
  },
  {
   "cell_type": "code",
   "execution_count": 57,
   "metadata": {},
   "outputs": [],
   "source": [
    "from sklearn.linear_model import LinearRegression\n",
    "import inventorize as inv"
   ]
  },
  {
   "cell_type": "code",
   "execution_count": 58,
   "metadata": {},
   "outputs": [],
   "source": [
    "price = net_pp\n",
    "demand = final_quantity"
   ]
  },
  {
   "cell_type": "code",
   "execution_count": 59,
   "metadata": {},
   "outputs": [],
   "source": [
    "pricing_df = pd.DataFrame({'price':price,'demand': demand})"
   ]
  },
  {
   "cell_type": "code",
   "execution_count": 60,
   "metadata": {},
   "outputs": [
    {
     "data": {
      "text/plain": [
       "array([[-2.58348154]])"
      ]
     },
     "execution_count": 60,
     "metadata": {},
     "output_type": "execute_result"
    }
   ],
   "source": [
    "model=LinearRegression()\n",
    "\n",
    "model.fit(pricing_df[['price']],pricing_df[['demand']])\n",
    "\n",
    "model.intercept_\n",
    "model.coef_"
   ]
  },
  {
   "cell_type": "code",
   "execution_count": 61,
   "metadata": {},
   "outputs": [],
   "source": [
    "prod_cost = 29.99"
   ]
  },
  {
   "attachments": {},
   "cell_type": "markdown",
   "metadata": {},
   "source": [
    "### Lets make a simulation"
   ]
  },
  {
   "cell_type": "code",
   "execution_count": 62,
   "metadata": {},
   "outputs": [],
   "source": [
    "sim_data = pd.DataFrame({'price': range(1,90)})\n",
    "\n",
    "sim_data['expected_demand'] = model.intercept_[0]+model.coef_[0]*sim_data['price']\n",
    "\n"
   ]
  },
  {
   "cell_type": "code",
   "execution_count": 63,
   "metadata": {},
   "outputs": [
    {
     "data": {
      "text/html": [
       "<div>\n",
       "<style scoped>\n",
       "    .dataframe tbody tr th:only-of-type {\n",
       "        vertical-align: middle;\n",
       "    }\n",
       "\n",
       "    .dataframe tbody tr th {\n",
       "        vertical-align: top;\n",
       "    }\n",
       "\n",
       "    .dataframe thead th {\n",
       "        text-align: right;\n",
       "    }\n",
       "</style>\n",
       "<table border=\"1\" class=\"dataframe\">\n",
       "  <thead>\n",
       "    <tr style=\"text-align: right;\">\n",
       "      <th></th>\n",
       "      <th>price</th>\n",
       "      <th>expected_demand</th>\n",
       "    </tr>\n",
       "  </thead>\n",
       "  <tbody>\n",
       "    <tr>\n",
       "      <th>0</th>\n",
       "      <td>1</td>\n",
       "      <td>188.920682</td>\n",
       "    </tr>\n",
       "    <tr>\n",
       "      <th>1</th>\n",
       "      <td>2</td>\n",
       "      <td>186.337200</td>\n",
       "    </tr>\n",
       "    <tr>\n",
       "      <th>2</th>\n",
       "      <td>3</td>\n",
       "      <td>183.753719</td>\n",
       "    </tr>\n",
       "    <tr>\n",
       "      <th>3</th>\n",
       "      <td>4</td>\n",
       "      <td>181.170237</td>\n",
       "    </tr>\n",
       "    <tr>\n",
       "      <th>4</th>\n",
       "      <td>5</td>\n",
       "      <td>178.586756</td>\n",
       "    </tr>\n",
       "    <tr>\n",
       "      <th>...</th>\n",
       "      <td>...</td>\n",
       "      <td>...</td>\n",
       "    </tr>\n",
       "    <tr>\n",
       "      <th>84</th>\n",
       "      <td>85</td>\n",
       "      <td>-28.091768</td>\n",
       "    </tr>\n",
       "    <tr>\n",
       "      <th>85</th>\n",
       "      <td>86</td>\n",
       "      <td>-30.675249</td>\n",
       "    </tr>\n",
       "    <tr>\n",
       "      <th>86</th>\n",
       "      <td>87</td>\n",
       "      <td>-33.258731</td>\n",
       "    </tr>\n",
       "    <tr>\n",
       "      <th>87</th>\n",
       "      <td>88</td>\n",
       "      <td>-35.842212</td>\n",
       "    </tr>\n",
       "    <tr>\n",
       "      <th>88</th>\n",
       "      <td>89</td>\n",
       "      <td>-38.425694</td>\n",
       "    </tr>\n",
       "  </tbody>\n",
       "</table>\n",
       "<p>89 rows × 2 columns</p>\n",
       "</div>"
      ],
      "text/plain": [
       "    price  expected_demand\n",
       "0       1       188.920682\n",
       "1       2       186.337200\n",
       "2       3       183.753719\n",
       "3       4       181.170237\n",
       "4       5       178.586756\n",
       "..    ...              ...\n",
       "84     85       -28.091768\n",
       "85     86       -30.675249\n",
       "86     87       -33.258731\n",
       "87     88       -35.842212\n",
       "88     89       -38.425694\n",
       "\n",
       "[89 rows x 2 columns]"
      ]
     },
     "execution_count": 63,
     "metadata": {},
     "output_type": "execute_result"
    }
   ],
   "source": [
    "# Check sim_data\n",
    "\n",
    "sim_data"
   ]
  },
  {
   "cell_type": "code",
   "execution_count": 64,
   "metadata": {},
   "outputs": [],
   "source": [
    "sim_data['total_cost'] = sim_data['expected_demand']*prod_cost\n",
    "sim_data['revenue'] = sim_data['expected_demand']*sim_data['price']\n",
    "sim_data['profit'] = sim_data['revenue']-sim_data['total_cost']"
   ]
  },
  {
   "cell_type": "code",
   "execution_count": 65,
   "metadata": {},
   "outputs": [
    {
     "data": {
      "text/html": [
       "<div>\n",
       "<style scoped>\n",
       "    .dataframe tbody tr th:only-of-type {\n",
       "        vertical-align: middle;\n",
       "    }\n",
       "\n",
       "    .dataframe tbody tr th {\n",
       "        vertical-align: top;\n",
       "    }\n",
       "\n",
       "    .dataframe thead th {\n",
       "        text-align: right;\n",
       "    }\n",
       "</style>\n",
       "<table border=\"1\" class=\"dataframe\">\n",
       "  <thead>\n",
       "    <tr style=\"text-align: right;\">\n",
       "      <th></th>\n",
       "      <th>price</th>\n",
       "      <th>expected_demand</th>\n",
       "      <th>total_cost</th>\n",
       "      <th>revenue</th>\n",
       "      <th>profit</th>\n",
       "    </tr>\n",
       "  </thead>\n",
       "  <tbody>\n",
       "    <tr>\n",
       "      <th>51</th>\n",
       "      <td>52</td>\n",
       "      <td>57.163123</td>\n",
       "      <td>1714.322062</td>\n",
       "      <td>2972.482402</td>\n",
       "      <td>1258.16034</td>\n",
       "    </tr>\n",
       "  </tbody>\n",
       "</table>\n",
       "</div>"
      ],
      "text/plain": [
       "    price  expected_demand   total_cost      revenue      profit\n",
       "51     52        57.163123  1714.322062  2972.482402  1258.16034"
      ]
     },
     "execution_count": 65,
     "metadata": {},
     "output_type": "execute_result"
    }
   ],
   "source": [
    "sim_data[sim_data.profit==max(sim_data.profit)]"
   ]
  },
  {
   "cell_type": "code",
   "execution_count": 66,
   "metadata": {},
   "outputs": [
    {
     "data": {
      "image/png": "[encoded data removed]",
      "text/plain": [
       "<Figure size 2000x1000 with 1 Axes>"
      ]
     },
     "metadata": {},
     "output_type": "display_data"
    }
   ],
   "source": [
    "plt.figure(figsize=(20, 10))\n",
    "\n",
    "plt.plot(sim_data.price, sim_data.expected_demand, label='demand')\n",
    "plt.plot(sim_data.price, sim_data.revenue, label='revenue')\n",
    "plt.plot(sim_data.price, sim_data.profit, label='profit')\n",
    "plt.axvline(x=52, color='red', linestyle='--', label='Profit max (p=52.00)')  # Add vertical line at x=52\n",
    "plt.legend(loc='upper left')\n",
    "\n",
    "plt.show()"
   ]
  },
  {
   "attachments": {},
   "cell_type": "markdown",
   "metadata": {},
   "source": [
    "# Great now I think we have a better framework to understand if we our selling price is at an ideal leave, rather then over spend and achieving deminishing returns."
   ]
  },
  {
   "attachments": {},
   "cell_type": "markdown",
   "metadata": {},
   "source": [
    "## In conclusion, there are many ways to predict a forecast and I believe I can continue to explore multiple avenues to optimize the prediction. This framework will help product managers to understand potential future sales. However, I believe by implementing this method of looking at price elasticity of demand; product managers will have a better understanding of overspending and get a better understanding of spend effectiveness; as well as, profit maximization. "
   ]
  },
  {
   "cell_type": "code",
   "execution_count": null,
   "metadata": {},
   "outputs": [],
   "source": []
  },
  {
   "cell_type": "code",
   "execution_count": null,
   "metadata": {},
   "outputs": [],
   "source": []
  },
  {
   "cell_type": "code",
   "execution_count": null,
   "metadata": {},
   "outputs": [],
   "source": []
  },
  {
   "cell_type": "code",
   "execution_count": null,
   "metadata": {},
   "outputs": [],
   "source": []
  }
 ],
 "metadata": {
  "kernelspec": {
   "display_name": "plotly_bokeh",
   "language": "python",
   "name": "plotly_bokeh"
  },
  "language_info": {
   "codemirror_mode": {
    "name": "ipython",
    "version": 3
   },
   "file_extension": ".py",
   "mimetype": "text/x-python",
   "name": "python",
   "nbconvert_exporter": "python",
   "pygments_lexer": "ipython3",
   "version": "3.8.15"
  },
  "orig_nbformat": 4
 },
 "nbformat": 4,
 "nbformat_minor": 2
}
